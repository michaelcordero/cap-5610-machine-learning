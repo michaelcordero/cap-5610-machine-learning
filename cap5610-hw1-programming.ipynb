{
 "metadata": {
  "kernelspec": {
   "language": "python",
   "display_name": "Python 3",
   "name": "python3"
  },
  "language_info": {
   "name": "python",
   "version": "3.7.12",
   "mimetype": "text/x-python",
   "codemirror_mode": {
    "name": "ipython",
    "version": 3
   },
   "pygments_lexer": "ipython3",
   "nbconvert_exporter": "python",
   "file_extension": ".py"
  }
 },
 "nbformat_minor": 4,
 "nbformat": 4,
 "cells": [
  {
   "cell_type": "markdown",
   "source": [
    "# CAP5610 - Assignment 1 - Programming question (11%)\n",
    "\n",
    "In this homework, we will train and test several linear regression models on the diabetes dataset. Details of the dataset can be found here: https://scikit-learn.org/stable/datasets/toy_dataset.html#diabetes-dataset. **After completing this assignment, download your notebook and upload it to Canvas.**\n",
    "\n",
    "First, run the following code snippet to load the dataset. After executing the code, the inputs and corresponding outputs will be loaded to the variables X and Y respectively. We also print out the shapes of X and Y for a sanity check."
   ],
   "metadata": {}
  },
  {
   "cell_type": "code",
   "source": [
    "from sklearn.datasets import load_diabetes\n",
    "\n",
    "X, Y = load_diabetes(return_X_y=True)\n",
    "\n",
    "print(X.shape, Y.shape)"
   ],
   "metadata": {
    "_uuid": "8f2839f25d086af736a60e9eeb907d3b93b6e0e5",
    "_cell_guid": "b1076dfc-b9ad-4769-8c92-a6c4dae69d19",
    "execution": {
     "iopub.status.busy": "2022-01-25T16:09:26.821992Z",
     "iopub.execute_input": "2022-01-25T16:09:26.822358Z",
     "iopub.status.idle": "2022-01-25T16:09:27.823415Z",
     "shell.execute_reply.started": "2022-01-25T16:09:26.822253Z",
     "shell.execute_reply": "2022-01-25T16:09:27.822847Z"
    },
    "trusted": true
   },
   "execution_count": 1,
   "outputs": [
    {
     "name": "stdout",
     "output_type": "stream",
     "text": [
      "(442, 10) (442,)\n"
     ]
    }
   ]
  },
  {
   "cell_type": "markdown",
   "source": [
    "## 1. Split data (1%)\n",
    "\n",
    "Write code to randomly split the data into a train set (70% total data) and test set (30% total data). Store your splits into 4 variables X_train, X_test, Y_train, Y_test that correspond to the train inputs, test inputs, train labels, and test labels respectively."
   ],
   "metadata": {}
  },
  {
   "cell_type": "code",
   "source": [
    "# Write your code here\n",
    "from sklearn.model_selection import train_test_split\n",
    "\n",
    "X_train, X_test, Y_train, Y_test = train_test_split(X, Y, test_size=0.3, random_state=42)\n",
    "print(X_train.shape)\n",
    "print(Y_train.shape)\n",
    "print(X_test.shape)\n",
    "print(Y_test.shape)"
   ],
   "metadata": {
    "trusted": true
   },
   "execution_count": 3,
   "outputs": [
    {
     "name": "stdout",
     "output_type": "stream",
     "text": [
      "(309, 10)\n",
      "(309,)\n",
      "(133, 10)\n",
      "(133,)\n"
     ]
    }
   ]
  },
  {
   "cell_type": "markdown",
   "source": [
    "## 2. Train and evaluate a linear regression model (4%)\n",
    "\n",
    "Write code to train and evaluate a linear regression model using Sklearn. The API for the model is at: https://scikit-learn.org/stable/modules/generated/sklearn.linear_model.LinearRegression.html. \n",
    "\n",
    "Your code should do the following steps:\n",
    "1. Define a linear regression model with default parameters.\n",
    "2. Fit the model using the train set.\n",
    "3. Use the model to make predictions on the test set.\n",
    "4. Compute and print out the mean squared error on the test set."
   ],
   "metadata": {}
  },
  {
   "cell_type": "code",
   "source": [
    "# Write your code here\n",
    "from sklearn.linear_model import LinearRegression\n",
    "from sklearn.metrics import mean_squared_error\n",
    "\n",
    "lr_model = LinearRegression()\n",
    "lr_model.fit(X_train, Y_train)\n",
    "Y_prediction = lr_model.predict(X_test)\n",
    "mse = mean_squared_error(Y_test, Y_prediction)\n",
    "print(f'Mean Squared Error for LR Model: {mse}')"
   ],
   "metadata": {
    "trusted": true
   },
   "execution_count": 6,
   "outputs": [
    {
     "name": "stdout",
     "output_type": "stream",
     "text": [
      "Mean Squared Error for LR Model: 2821.7509810013107\n"
     ]
    }
   ]
  },
  {
   "cell_type": "markdown",
   "source": [
    "## 3. Train and evaluate a Ridge regression model (2%)\n",
    "\n",
    "Write code to train and evaluate a Ridge regression model using Sklearn. The API for the model is at: https://scikit-learn.org/stable/modules/generated/sklearn.linear_model.Ridge.html.\n",
    "\n",
    "Your code should follow the same 4 steps as in Question 2 above. Use the default regularization **alpha=1.0** for the model."
   ],
   "metadata": {}
  },
  {
   "cell_type": "code",
   "source": [
    "# Write your code here\n",
    "from sklearn.linear_model import Ridge\n",
    "rr_model = Ridge(alpha=1.0)\n",
    "rr_model.fit(X_train, Y_train)\n",
    "rrY_prediction = rr_model.predict(X_test)\n",
    "rr_mse = mean_squared_error(Y_test, rrY_prediction)\n",
    "print(f'MSE for RR Model: {rr_mse}')"
   ],
   "metadata": {
    "trusted": true
   },
   "execution_count": 35,
   "outputs": [
    {
     "name": "stdout",
     "output_type": "stream",
     "text": [
      "MSE for RR Model: 3112.966415198081\n"
     ]
    }
   ]
  },
  {
   "cell_type": "markdown",
   "source": [
    "## 4. Train and evaluate a Lasso regression model (2%)\n",
    "\n",
    "Write code to train and evaluate a Lasso regression model using Sklearn. The API for the model is at: https://scikit-learn.org/stable/modules/generated/sklearn.linear_model.Lasso.html.\n",
    "\n",
    "Your code should follow the same 4 steps as in Question 2 above. Use the default regularization **alpha=1.0** for the model."
   ],
   "metadata": {}
  },
  {
   "cell_type": "code",
   "source": [
    "# Write your code here\n",
    "from sklearn.linear_model import Lasso\n",
    "lasso_model = Lasso(alpha=1.0)\n",
    "lasso_model.fit(X_train, Y_train)\n",
    "lmY_prediction = lasso_model.predict(X_test)\n",
    "lm_mse = mean_squared_error(Y_test, lmY_prediction)\n",
    "print(f'MSE for Lasso Model: {lm_mse}')"
   ],
   "metadata": {
    "trusted": true
   },
   "execution_count": 36,
   "outputs": [
    {
     "name": "stdout",
     "output_type": "stream",
     "text": [
      "MSE for Lasso Model: 3444.670824977634\n"
     ]
    }
   ]
  },
  {
   "cell_type": "markdown",
   "source": [
    "## 5. Test various alpha values for Ridge and Lasso model (2%)\n",
    "\n",
    "Re-run question 3 and 4 with various values of **alpha** according to the table below. Fill the table with the test MSE of these models. Which model (for example, Ridge with alpha=0.6, etc.) performs best on the test set? \n",
    "\n",
    "You can edit the table and add your answer directly into this cell by double-clicking on it. **If you modify your code in question 3 and 4 to test alpha values, remember to change it back to the default alpha=1.0 before submitting your code.**\n",
    "\n",
    "| model/alpha | 0.1     | 0.2     |  0.4    | 0.6     | 0.8     | 1.0       | 10.0     | 100.0   |\n",
    "| ---         |---------|---------|---------|---------|---------|-----------|----------|---------|\n",
    "|  Ridge      | 2805.40 | 2813.15 | 2870.31 | 2948.20 | 3030.97 | 3312.96   | 4580.10  | 5318.57 |\n",
    "|  Lasso      | 2775.16 | 2806.10 | 2889.19 | 3003.14 | 3195.80 | 3444.67   | 5432.88  | 5432.88 |\n",
    "\n",
    "**Your answer:** ..."
   ],
   "metadata": {}
  },
  {
   "cell_type": "markdown",
   "source": [
    " **Lasso Model with alpha=0.1 has the lowest MSE score, therefore it performs the best on the test set.**"
   ],
   "metadata": {
    "collapsed": false
   }
  }
 ]
}
