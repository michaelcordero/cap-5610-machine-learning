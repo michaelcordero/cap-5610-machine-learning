{
 "metadata": {
  "kernelspec": {
   "language": "python",
   "display_name": "Python 3",
   "name": "python3"
  },
  "language_info": {
   "name": "python",
   "version": "3.7.12",
   "mimetype": "text/x-python",
   "codemirror_mode": {
    "name": "ipython",
    "version": 3
   },
   "pygments_lexer": "ipython3",
   "nbconvert_exporter": "python",
   "file_extension": ".py"
  }
 },
 "nbformat_minor": 4,
 "nbformat": 4,
 "cells": [
  {
   "cell_type": "markdown",
   "source": "# CAP5610 - Assignment 1 - Programming question (11%)\n\nIn this homework, we will train and test several linear regression models on the diabetes dataset. Details of the dataset can be found here: https://scikit-learn.org/stable/datasets/toy_dataset.html#diabetes-dataset. **After completing this assignment, download your notebook and upload it to Canvas.**\n\nFirst, run the following code snippet to load the dataset. After executing the code, the inputs and corresponding outputs will be loaded to the variables X and Y respectively. We also print out the shapes of X and Y for a sanity check.",
   "metadata": {}
  },
  {
   "cell_type": "code",
   "source": "from sklearn.datasets import load_diabetes\n\nX, Y = load_diabetes(return_X_y=True)\n\nprint(X.shape, Y.shape)",
   "metadata": {
    "_uuid": "8f2839f25d086af736a60e9eeb907d3b93b6e0e5",
    "_cell_guid": "b1076dfc-b9ad-4769-8c92-a6c4dae69d19",
    "trusted": true
   },
   "execution_count": null,
   "outputs": []
  },
  {
   "cell_type": "markdown",
   "source": "## 1. Split data (1%)\n\nWrite code to randomly split the data into a train set (70% total data) and test set (30% total data). Store your splits into 4 variables X_train, X_test, Y_train, Y_test that correspond to the train inputs, test inputs, train labels, and test labels respectively.",
   "metadata": {}
  },
  {
   "cell_type": "code",
   "source": "from sklearn.model_selection import train_test_split\n\nX_train, X_test, Y_train, Y_test = train_test_split(X, Y, test_size=0.3, random_state=42)\n\nprint(X_train.shape, Y_train.shape)\nprint(X_test.shape, Y_test.shape)",
   "metadata": {
    "trusted": true
   },
   "execution_count": null,
   "outputs": []
  },
  {
   "cell_type": "markdown",
   "source": "## 2. Train and evaluate a linear regression model (4%)\n\nWrite code to train and evaluate a linear regression model using Sklearn. The API for the model is at: https://scikit-learn.org/stable/modules/generated/sklearn.linear_model.LinearRegression.html. \n\nYour code should do the following steps:\n1. Define a linear regression model with default parameters.\n2. Fit the model using the train set.\n3. Use the model to make predictions on the test set.\n4. Compute and print out the mean squared error on the test set.",
   "metadata": {}
  },
  {
   "cell_type": "code",
   "source": "from sklearn.linear_model import LinearRegression\nfrom sklearn.metrics import mean_squared_error\n\nlr_model = LinearRegression()\nlr_model.fit(X_train, Y_train)\nY_pred = lr_model.predict(X_test)\nprint(mean_squared_error(Y_test, Y_pred))",
   "metadata": {
    "trusted": true
   },
   "execution_count": null,
   "outputs": []
  },
  {
   "cell_type": "markdown",
   "source": "## 3. Train and evaluate a Ridge regression model (2%)\n\nWrite code to train and evaluate a Ridge regression model using Sklearn. The API for the model is at: https://scikit-learn.org/stable/modules/generated/sklearn.linear_model.Ridge.html.\n\nYour code should follow the same 4 steps as in Question 2 above. Use the default regularization **alpha=1.0** for the model.",
   "metadata": {}
  },
  {
   "cell_type": "code",
   "source": "from sklearn.linear_model import Ridge\n\nridge_model = Ridge(alpha=1.0, random_state=10)\nridge_model.fit(X_train, Y_train)\nY_pred = ridge_model.predict(X_test)\nprint(mean_squared_error(Y_test, Y_pred))",
   "metadata": {
    "trusted": true
   },
   "execution_count": null,
   "outputs": []
  },
  {
   "cell_type": "markdown",
   "source": "## 4. Train and evaluate a Lasso regression model (2%)\n\nWrite code to train and evaluate a Lasso regression model using Sklearn. The API for the model is at: https://scikit-learn.org/stable/modules/generated/sklearn.linear_model.Lasso.html.\n\nYour code should follow the same 4 steps as in Question 2 above. Use the default regularization **alpha=1.0** for the model.",
   "metadata": {}
  },
  {
   "cell_type": "code",
   "source": "from sklearn.linear_model import Lasso\n\nlasso_model = Lasso(alpha=1.0, random_state=10)\nlasso_model.fit(X_train, Y_train)\nY_pred = lasso_model.predict(X_test)\nprint(mean_squared_error(Y_test, Y_pred))",
   "metadata": {
    "trusted": true
   },
   "execution_count": null,
   "outputs": []
  },
  {
   "cell_type": "markdown",
   "source": "## 5. Test various alpha values for Ridge and Lasso model (2%)\n\nRe-run question 3 and 4 with various values of **alpha** according to the table below. Fill the table with the test MSE of these models. Which model (for example, Ridge with alpha=0.6, etc.) performs best on the test set? \n\nYou can edit the table and add your answer directly into this cell by double-clicking on it. **If you modify your code in question 3 and 4 to test alpha values, remember to change it back to the default alpha=1.0 before submitting your code.**\n\n| model/alpha | 0.1 | 0.2 | 0.4 | 0.6 | 0.8 | 1.0 | 10.0 | 100.0 |\n| ---         | --- | --- | --- | --- | --- | --- | ---  | ---   |\n|  Ridge      | 2805.39 | 2813.15 | 2870.30 | 2948.20 | 3030.97 | 3112.96 | 4580.10 | 5318.57 | \n|  Lasso      | 2775.16 | 2806.10 | 2889.19 | 3003.14 | 3195.79 | 3444.66 | 5432.88 | 5432.88 | \n\n**Your answer:** According to my table, the best model is Lasso with alpha=0.1.",
   "metadata": {}
  }
 ]
}
