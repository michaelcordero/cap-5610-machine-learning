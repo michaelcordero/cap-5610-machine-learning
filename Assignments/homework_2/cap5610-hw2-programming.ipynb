{
 "cells": [
  {
   "cell_type": "code",
   "execution_count": 2,
   "metadata": {
    "collapsed": true,
    "ExecuteTime": {
     "start_time": "2023-04-03T19:54:56.177297Z",
     "end_time": "2023-04-03T19:54:56.217650Z"
    }
   },
   "outputs": [],
   "source": [
    "## Load CIFAR-10 Dataset"
   ]
  },
  {
   "cell_type": "code",
   "execution_count": 3,
   "outputs": [],
   "source": [
    "from keras.datasets import cifar10\n",
    "from tensorflow.keras.utils import to_categorical\n",
    "\n",
    "(X_train, Y_train), (X_test, Y_test) = cifar10.load_data()\n",
    "X_train = X_train.astype('float32') / 255\n",
    "X_test = X_test.astype('float32') / 255\n",
    "\n",
    "num_classes = 10\n",
    "Y_train = to_categorical(Y_train, num_classes)\n",
    "Y_test = to_categorical(Y_test, num_classes)"
   ],
   "metadata": {
    "collapsed": false,
    "ExecuteTime": {
     "start_time": "2023-04-03T19:54:59.473714Z",
     "end_time": "2023-04-03T19:55:00.363084Z"
    }
   }
  },
  {
   "cell_type": "code",
   "execution_count": 1,
   "outputs": [],
   "source": [
    "## Train and evaluate the VGG Model with 3 blocks without BatchNorm"
   ],
   "metadata": {
    "collapsed": false,
    "ExecuteTime": {
     "start_time": "2023-04-03T19:25:01.878296Z",
     "end_time": "2023-04-03T19:25:01.879867Z"
    }
   }
  },
  {
   "cell_type": "code",
   "execution_count": 10,
   "outputs": [
    {
     "name": "stdout",
     "output_type": "stream",
     "text": [
      "Epoch 1/30\n",
      "391/391 [==============================] - 323s 825ms/step - loss: 2.2820 - accuracy: 0.1228\n",
      "Epoch 2/30\n",
      "391/391 [==============================] - 317s 810ms/step - loss: 2.0635 - accuracy: 0.2488\n",
      "Epoch 3/30\n",
      "391/391 [==============================] - 322s 824ms/step - loss: 1.9219 - accuracy: 0.3117\n",
      "Epoch 4/30\n",
      "391/391 [==============================] - 314s 804ms/step - loss: 1.7932 - accuracy: 0.3571\n",
      "Epoch 5/30\n",
      "391/391 [==============================] - 317s 811ms/step - loss: 1.6921 - accuracy: 0.3950\n",
      "Epoch 6/30\n",
      "391/391 [==============================] - 319s 815ms/step - loss: 1.6072 - accuracy: 0.4254\n",
      "Epoch 7/30\n",
      "391/391 [==============================] - 316s 808ms/step - loss: 1.5457 - accuracy: 0.4478\n",
      "Epoch 8/30\n",
      "391/391 [==============================] - 318s 812ms/step - loss: 1.4930 - accuracy: 0.4654\n",
      "Epoch 9/30\n",
      "391/391 [==============================] - 317s 810ms/step - loss: 1.4481 - accuracy: 0.4825\n",
      "Epoch 10/30\n",
      "391/391 [==============================] - 314s 803ms/step - loss: 1.4102 - accuracy: 0.4973\n",
      "Epoch 11/30\n",
      "391/391 [==============================] - 318s 814ms/step - loss: 1.3770 - accuracy: 0.5094\n",
      "Epoch 12/30\n",
      "391/391 [==============================] - 321s 821ms/step - loss: 1.3397 - accuracy: 0.5230\n",
      "Epoch 13/30\n",
      "391/391 [==============================] - 318s 813ms/step - loss: 1.3128 - accuracy: 0.5324\n",
      "Epoch 14/30\n",
      "391/391 [==============================] - 318s 813ms/step - loss: 1.2803 - accuracy: 0.5432\n",
      "Epoch 15/30\n",
      "391/391 [==============================] - 316s 807ms/step - loss: 1.2531 - accuracy: 0.5532\n",
      "Epoch 16/30\n",
      "391/391 [==============================] - 315s 806ms/step - loss: 1.2272 - accuracy: 0.5647\n",
      "Epoch 17/30\n",
      "391/391 [==============================] - 305s 780ms/step - loss: 1.2000 - accuracy: 0.5750\n",
      "Epoch 18/30\n",
      "391/391 [==============================] - 307s 785ms/step - loss: 1.1740 - accuracy: 0.5843\n",
      "Epoch 19/30\n",
      "391/391 [==============================] - 305s 781ms/step - loss: 1.1474 - accuracy: 0.5944\n",
      "Epoch 20/30\n",
      "391/391 [==============================] - 305s 779ms/step - loss: 1.1275 - accuracy: 0.6019\n",
      "Epoch 21/30\n",
      "391/391 [==============================] - 312s 798ms/step - loss: 1.1000 - accuracy: 0.6127\n",
      "Epoch 22/30\n",
      "391/391 [==============================] - 312s 797ms/step - loss: 1.0765 - accuracy: 0.6191\n",
      "Epoch 23/30\n",
      "391/391 [==============================] - 311s 794ms/step - loss: 1.0589 - accuracy: 0.6265\n",
      "Epoch 24/30\n",
      "391/391 [==============================] - 306s 783ms/step - loss: 1.0386 - accuracy: 0.6332\n",
      "Epoch 25/30\n",
      "391/391 [==============================] - 308s 787ms/step - loss: 1.0174 - accuracy: 0.6417\n",
      "Epoch 26/30\n",
      "391/391 [==============================] - 309s 791ms/step - loss: 0.9945 - accuracy: 0.6485\n",
      "Epoch 27/30\n",
      "391/391 [==============================] - 318s 813ms/step - loss: 0.9764 - accuracy: 0.6564\n",
      "Epoch 28/30\n",
      "391/391 [==============================] - 310s 793ms/step - loss: 0.9619 - accuracy: 0.6629\n",
      "Epoch 29/30\n",
      "391/391 [==============================] - 313s 800ms/step - loss: 0.9393 - accuracy: 0.6709\n",
      "Epoch 30/30\n",
      "391/391 [==============================] - 305s 781ms/step - loss: 0.9287 - accuracy: 0.6734\n",
      "313/313 [==============================] - 28s 90ms/step - loss: 1.0173 - accuracy: 0.6415\n",
      "0.6414999961853027\n"
     ]
    }
   ],
   "source": [
    "from tensorflow.keras.models import Sequential\n",
    "from tensorflow.keras.layers import Dense, Conv2D, MaxPooling2D, Flatten\n",
    "\n",
    "model = Sequential()\n",
    "\n",
    "# VGG block\n",
    "for i in range(3):\n",
    "    model.add(Conv2D(32, (3, 3), activation='relu', padding='same', input_shape=(32, 32, 3)))\n",
    "    model.add(Conv2D(32, (3, 3), activation='relu', padding='same'))\n",
    "    model.add(MaxPooling2D((2, 2)))\n",
    "\n",
    "# Flatten\n",
    "model.add(Flatten())\n",
    "\n",
    "# Fully-connected part\n",
    "model.add(Dense(128, activation='relu'))\n",
    "model.add(Dense(10, activation='softmax'))\n",
    "\n",
    "\n",
    "model.compile(loss='categorical_crossentropy', optimizer='sgd', metrics=['accuracy'])\n",
    "model.fit(X_train, Y_train, epochs=30, batch_size=128)\n",
    "accuracy = model.evaluate(X_test, Y_test)[1]\n",
    "\n",
    "print(accuracy)"
   ],
   "metadata": {
    "collapsed": false,
    "ExecuteTime": {
     "start_time": "2023-04-03T20:00:03.735136Z",
     "end_time": "2023-04-03T22:37:21.255031Z"
    }
   }
  },
  {
   "cell_type": "code",
   "execution_count": null,
   "outputs": [],
   "source": [],
   "metadata": {
    "collapsed": false
   }
  }
 ],
 "metadata": {
  "kernelspec": {
   "display_name": "Python 3",
   "language": "python",
   "name": "python3"
  },
  "language_info": {
   "codemirror_mode": {
    "name": "ipython",
    "version": 2
   },
   "file_extension": ".py",
   "mimetype": "text/x-python",
   "name": "python",
   "nbconvert_exporter": "python",
   "pygments_lexer": "ipython2",
   "version": "2.7.6"
  }
 },
 "nbformat": 4,
 "nbformat_minor": 0
}
