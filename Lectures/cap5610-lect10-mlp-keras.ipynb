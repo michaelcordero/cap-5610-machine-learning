{
 "metadata": {
  "kernelspec": {
   "language": "python",
   "display_name": "Python 3",
   "name": "python3"
  },
  "language_info": {
   "pygments_lexer": "ipython3",
   "nbconvert_exporter": "python",
   "version": "3.6.4",
   "file_extension": ".py",
   "codemirror_mode": {
    "name": "ipython",
    "version": 3
   },
   "name": "python",
   "mimetype": "text/x-python"
  }
 },
 "nbformat_minor": 4,
 "nbformat": 4,
 "cells": [
  {
   "cell_type": "markdown",
   "source": "# Multi-layer perceptrons with Keras\n\nIn this demo, we will train and test a multi-layer perceptron model on the MNIST handwritten digits dataset using Keras.",
   "metadata": {
    "id": "63GSckRspoZJ"
   }
  },
  {
   "cell_type": "markdown",
   "source": "## 1. Load dataset\n* Like sklearn, Keras also provides an API to download and load the MNIST dataset. \n* The following code snippet will download the data, load it into memory, and convert pixel values to [0, 1].\n* The API for the method is at: https://www.tensorflow.org/api_docs/python/tf/keras/datasets/mnist/load_data\n* Note that here the images are not flatten.",
   "metadata": {
    "id": "8aieNmVBO2II"
   }
  },
  {
   "cell_type": "code",
   "source": "from keras.datasets import mnist\n\n(X_train, Y_train), (X_test, Y_test) = mnist.load_data()\nX_train = X_train.astype('float32') / 255\nX_test = X_test.astype('float32') / 255\n\nprint(X_train.shape, Y_train.shape)\nprint(X_test.shape, Y_test.shape)",
   "metadata": {
    "id": "N8WM9P0lLYas",
    "execution": {
     "iopub.status.busy": "2022-02-11T00:28:17.651404Z",
     "iopub.execute_input": "2022-02-11T00:28:17.651721Z",
     "iopub.status.idle": "2022-02-11T00:28:25.188107Z",
     "shell.execute_reply.started": "2022-02-11T00:28:17.651639Z",
     "shell.execute_reply": "2022-02-11T00:28:25.187297Z"
    },
    "trusted": true
   },
   "execution_count": null,
   "outputs": []
  },
  {
   "cell_type": "markdown",
   "source": "## 2. Show a few training examples and its label\n* We show a training example based on index **img_id** as in the previous demo.",
   "metadata": {
    "id": "AqG4Ms29F9z_"
   }
  },
  {
   "cell_type": "code",
   "source": "import matplotlib.pyplot as plt\n\nimg_id = 59\nimage = X_train[img_id]\nlabel = Y_train[img_id]\n\nplt.imshow(image)\nplt.show()\nprint(label)",
   "metadata": {
    "id": "WffFB6scGCh0",
    "trusted": true
   },
   "execution_count": null,
   "outputs": []
  },
  {
   "cell_type": "markdown",
   "source": "## 3. Flatten the inputs into vectors\n* The images are not flattened, so we flatten them into vectors to train with an MLP model.",
   "metadata": {
    "id": "j5oSsHDyKdOV"
   }
  },
  {
   "cell_type": "code",
   "source": "X_train = X_train.reshape(-1, 28*28)\nX_test = X_test.reshape(-1, 28*28)\n\nprint(X_train.shape, X_test.shape)",
   "metadata": {
    "id": "FMW07LxNKkcG",
    "execution": {
     "iopub.status.busy": "2022-02-11T00:28:28.770928Z",
     "iopub.execute_input": "2022-02-11T00:28:28.771366Z",
     "iopub.status.idle": "2022-02-11T00:28:28.781301Z",
     "shell.execute_reply.started": "2022-02-11T00:28:28.77132Z",
     "shell.execute_reply": "2022-02-11T00:28:28.778644Z"
    },
    "trusted": true
   },
   "execution_count": null,
   "outputs": []
  },
  {
   "cell_type": "markdown",
   "source": "## 4. Convert label vectors into one-hot encodings\n* When using Keras for classification, the labels have to be converted into one-hot encoding vectors.\n* We can do this using the [to_categorial](https://www.tensorflow.org/api_docs/python/tf/keras/utils/to_categorical) method.",
   "metadata": {
    "id": "9CpvkubAO-pE"
   }
  },
  {
   "cell_type": "code",
   "source": "from tensorflow.keras.utils import to_categorical\n\nnum_classes = 10\nY_train = to_categorical(Y_train, num_classes)\nY_test = to_categorical(Y_test, num_classes)\n\nprint(Y_train.shape, Y_test.shape)",
   "metadata": {
    "id": "0rPJrL4xL8rh",
    "execution": {
     "iopub.status.busy": "2022-02-11T00:28:31.386189Z",
     "iopub.execute_input": "2022-02-11T00:28:31.387077Z",
     "iopub.status.idle": "2022-02-11T00:28:31.841873Z",
     "shell.execute_reply.started": "2022-02-11T00:28:31.387028Z",
     "shell.execute_reply": "2022-02-11T00:28:31.840974Z"
    },
    "trusted": true
   },
   "execution_count": null,
   "outputs": []
  },
  {
   "cell_type": "markdown",
   "source": "## 5. Define the MLP model\n* We can define an MLP model using a [Sequential](https://keras.io/api/models/sequential/) model and the [Dense](https://keras.io/api/layers/core_layers/dense/) layers. \n* In most cases, we will define a model as a Sequential model, and then add layers to it one-by-one.",
   "metadata": {
    "id": "Qo4RjIAaPGxa"
   }
  },
  {
   "cell_type": "code",
   "source": "from tensorflow.keras.models import Sequential\nfrom tensorflow.keras.layers import Dense\n\nmodel = Sequential()\nmodel.add(Dense(50, activation='relu'))\nmodel.add(Dense(50, activation='relu'))\nmodel.add(Dense(10, activation='softmax'))",
   "metadata": {
    "id": "XElZvngXCsT6",
    "execution": {
     "iopub.status.busy": "2022-02-11T00:28:35.586162Z",
     "iopub.execute_input": "2022-02-11T00:28:35.586836Z",
     "iopub.status.idle": "2022-02-11T00:28:35.666425Z",
     "shell.execute_reply.started": "2022-02-11T00:28:35.586789Z",
     "shell.execute_reply": "2022-02-11T00:28:35.665685Z"
    },
    "trusted": true
   },
   "execution_count": null,
   "outputs": []
  },
  {
   "cell_type": "markdown",
   "source": "## 6. Compile the model\n* Before training a Keras model, we need to compile it to set up all the options for training, such as loss function, optimizer, and evaluation metrics. \n* Here we will use cross entropy loss and the SGD optimizer. Our evaluation metric will be accuracy.",
   "metadata": {
    "id": "pZONj3oJJcZZ"
   }
  },
  {
   "cell_type": "code",
   "source": "model.compile(loss='categorical_crossentropy', optimizer='sgd', metrics=['accuracy'])",
   "metadata": {
    "id": "c25OV_XaJgIT",
    "execution": {
     "iopub.status.busy": "2022-02-11T00:28:38.587806Z",
     "iopub.execute_input": "2022-02-11T00:28:38.588575Z",
     "iopub.status.idle": "2022-02-11T00:28:38.616569Z",
     "shell.execute_reply.started": "2022-02-11T00:28:38.588461Z",
     "shell.execute_reply": "2022-02-11T00:28:38.615666Z"
    },
    "trusted": true
   },
   "execution_count": null,
   "outputs": []
  },
  {
   "cell_type": "markdown",
   "source": "## 7. Train the model\n* Now we can train the model using the `fit(...)` method. \n* We can specify the number of epochs and batch size for training when calling fit().",
   "metadata": {
    "id": "e2XuB7yxPMiK"
   }
  },
  {
   "cell_type": "code",
   "source": "model.fit(X_train, Y_train, epochs=30, batch_size=128)",
   "metadata": {
    "id": "O4d4eFVnFY8R",
    "execution": {
     "iopub.status.busy": "2022-02-11T00:28:41.034862Z",
     "iopub.execute_input": "2022-02-11T00:28:41.035167Z",
     "iopub.status.idle": "2022-02-11T00:31:03.482331Z",
     "shell.execute_reply.started": "2022-02-11T00:28:41.035135Z",
     "shell.execute_reply": "2022-02-11T00:31:03.480859Z"
    },
    "trusted": true
   },
   "execution_count": null,
   "outputs": []
  },
  {
   "cell_type": "markdown",
   "source": "## 8. Evaluate the trained model on test set\n\nFinally, we can compute the model accuracy on the test set.",
   "metadata": {
    "id": "EIMxsvj7PPNB"
   }
  },
  {
   "cell_type": "code",
   "source": "_, accuracy = model.evaluate(X_test, Y_test)\n\nprint(accuracy)",
   "metadata": {
    "id": "K1cMOdJAG1-C",
    "trusted": true
   },
   "execution_count": null,
   "outputs": []
  }
 ]
}
