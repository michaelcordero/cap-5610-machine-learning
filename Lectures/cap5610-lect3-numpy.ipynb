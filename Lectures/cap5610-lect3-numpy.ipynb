{
 "metadata": {
  "kernelspec": {
   "language": "python",
   "display_name": "Python 3",
   "name": "python3"
  },
  "language_info": {
   "name": "python",
   "version": "3.7.12",
   "mimetype": "text/x-python",
   "codemirror_mode": {
    "name": "ipython",
    "version": 3
   },
   "pygments_lexer": "ipython3",
   "nbconvert_exporter": "python",
   "file_extension": ".py"
  }
 },
 "nbformat_minor": 4,
 "nbformat": 4,
 "cells": [
  {
   "cell_type": "markdown",
   "source": [
    "# CAP5610 - Numpy\n",
    "\n",
    "Source: https://becominghuman.ai/an-essential-guide-to-numpy-for-machine-learning-in-python-5615e1758301\n",
    "\n",
    "This demo only contains a subset of the tutorial above."
   ],
   "metadata": {
    "id": "Yqd7cIdvW0bj"
   }
  },
  {
   "cell_type": "markdown",
   "source": [
    "### 1. Import the library\n",
    "\n",
    "First, we need to import the numpy library to use. Here `np` will be used as an abbreviation for `numpy`."
   ],
   "metadata": {
    "id": "y0AHJKIsoXwp"
   }
  },
  {
   "cell_type": "code",
   "source": [
    "import numpy as np"
   ],
   "metadata": {
    "id": "Xf_zBieKoVNA",
    "trusted": true
   },
   "execution_count": null,
   "outputs": []
  },
  {
   "cell_type": "markdown",
   "source": [
    "### 2. Create a vector"
   ],
   "metadata": {
    "id": "hjqc4URun-kB"
   }
  },
  {
   "cell_type": "code",
   "source": [
    "# Create a row vector from a list\n",
    "vector_row = np.array([1, 2, 3])\n",
    "print(vector_row)\n",
    "print(type(vector_row))\n",
    "\n",
    "# Compare with the original list\n",
    "print([1, 2, 3])\n",
    "print(type([1, 2, 3]))"
   ],
   "metadata": {
    "id": "ecHxwhFYoB5x",
    "trusted": true
   },
   "execution_count": null,
   "outputs": []
  },
  {
   "cell_type": "code",
   "source": [
    "# Create a column vector from a list of lists\n",
    "vector_column = np.array([[1],[2],[3]])\n",
    "print(vector_column)\n",
    "print(type(vector_column))\n",
    "\n",
    "# Compare with the original list\n",
    "print([[1],[2],[3]])\n",
    "print(type([[1],[2],[3]]))"
   ],
   "metadata": {
    "trusted": true
   },
   "execution_count": null,
   "outputs": []
  },
  {
   "cell_type": "markdown",
   "source": [
    "### 3. Create a matrix"
   ],
   "metadata": {
    "id": "jS6X3UDvo7J4"
   }
  },
  {
   "cell_type": "code",
   "source": [
    "# Create a matrix from a list of lists\n",
    "matrix = np.array([[1, 2, 3],\n",
    "                   [4, 5, 6]])\n",
    "\n",
    "print(matrix)\n",
    "print(type(matrix))"
   ],
   "metadata": {
    "id": "syQcuNoYo0aZ",
    "trusted": true
   },
   "execution_count": null,
   "outputs": []
  },
  {
   "cell_type": "markdown",
   "source": [
    "### 4. Select elements"
   ],
   "metadata": {
    "id": "R3_tPIu6pSJQ"
   }
  },
  {
   "cell_type": "code",
   "source": [
    "# Print 2nd element of vector_row\n",
    "print(vector_row[1])"
   ],
   "metadata": {
    "id": "lDH1IbLvpW5B",
    "trusted": true
   },
   "execution_count": null,
   "outputs": []
  },
  {
   "cell_type": "code",
   "source": [
    "# Print 3rd element of vector_column\n",
    "print(vector_column[2])"
   ],
   "metadata": {
    "trusted": true
   },
   "execution_count": null,
   "outputs": []
  },
  {
   "cell_type": "code",
   "source": [
    "# Print element at 1st row, 3rd column of matrix\n",
    "print(matrix[0, 2])"
   ],
   "metadata": {
    "trusted": true
   },
   "execution_count": null,
   "outputs": []
  },
  {
   "cell_type": "code",
   "source": [
    "print(matrix)"
   ],
   "metadata": {
    "trusted": true
   },
   "execution_count": null,
   "outputs": []
  },
  {
   "cell_type": "code",
   "source": [
    "# Print sub-matrix with 2nd row and first two columns\n",
    "print(matrix[1:,:2])"
   ],
   "metadata": {
    "trusted": true
   },
   "execution_count": null,
   "outputs": []
  },
  {
   "cell_type": "markdown",
   "source": [
    "### 5. Properties of a matrix"
   ],
   "metadata": {
    "id": "p4fTAvUDrMI1"
   }
  },
  {
   "cell_type": "code",
   "source": [
    "matrix = np.array([[1, 2, 3, 10],\n",
    "                   [4, 5, 6, 11],\n",
    "                   [7, 8, 9, 12]])\n",
    "\n",
    "# Print number of rows and columns\n",
    "print(matrix.shape)"
   ],
   "metadata": {
    "id": "7w_IoAaprSWE",
    "trusted": true
   },
   "execution_count": null,
   "outputs": []
  },
  {
   "cell_type": "code",
   "source": [
    "# Print number of rows and columns separately\n",
    "print(matrix.shape[0])\n",
    "print(matrix.shape[1])"
   ],
   "metadata": {
    "trusted": true
   },
   "execution_count": null,
   "outputs": []
  },
  {
   "cell_type": "code",
   "source": [
    "# Print number of elements\n",
    "print(matrix.size)"
   ],
   "metadata": {
    "trusted": true
   },
   "execution_count": null,
   "outputs": []
  },
  {
   "cell_type": "code",
   "source": [
    "# Print number of dimensions\n",
    "print(matrix.ndim)"
   ],
   "metadata": {
    "trusted": true
   },
   "execution_count": null,
   "outputs": []
  },
  {
   "cell_type": "markdown",
   "source": [
    "### 6. Modifying a matrix"
   ],
   "metadata": {
    "id": "MpzVHtk4sBvT"
   }
  },
  {
   "cell_type": "code",
   "source": [
    "matrix = np.array([[1, 2, 3, 10],\n",
    "                   [4, 5, 6, 11],\n",
    "                   [7, 8, 9, 12]])\n",
    "\n",
    "# Modify one element\n",
    "matrix[0, 3] = 20\n",
    "print(matrix)"
   ],
   "metadata": {
    "id": "bb-2lFYvsZZj",
    "trusted": true
   },
   "execution_count": null,
   "outputs": []
  },
  {
   "cell_type": "code",
   "source": [
    "# Add a constant to all elements in the matrix\n",
    "matrix += 5\n",
    "print(matrix)"
   ],
   "metadata": {
    "trusted": true
   },
   "execution_count": null,
   "outputs": []
  },
  {
   "cell_type": "code",
   "source": [
    "# Divide all elements in the matrix by a constant\n",
    "matrix = matrix / 2\n",
    "print(matrix)"
   ],
   "metadata": {
    "trusted": true
   },
   "execution_count": null,
   "outputs": []
  },
  {
   "cell_type": "code",
   "source": [
    "# Modify one row of the matrix\n",
    "matrix[1] = matrix[0]*2\n",
    "print(matrix)"
   ],
   "metadata": {
    "trusted": true
   },
   "execution_count": null,
   "outputs": []
  },
  {
   "cell_type": "markdown",
   "source": [
    "### 7. Find min and max elements"
   ],
   "metadata": {
    "id": "vJmoIxvqtvf5"
   }
  },
  {
   "cell_type": "code",
   "source": [
    "matrix = np.array([[1, 2, 3, 10],\n",
    "                   [4, 5, 6, 11],\n",
    "                   [7, 8, 9, 12]])\n",
    "\n",
    "# Print max and min elements\n",
    "print(np.max(matrix))\n",
    "print(np.min(matrix))"
   ],
   "metadata": {
    "id": "BzAF7CVltOwC",
    "trusted": true
   },
   "execution_count": null,
   "outputs": []
  },
  {
   "cell_type": "code",
   "source": [
    "# Print max element in each column\n",
    "print(np.max(matrix, axis=0))"
   ],
   "metadata": {
    "trusted": true
   },
   "execution_count": null,
   "outputs": []
  },
  {
   "cell_type": "code",
   "source": [
    "# Print min element in each row\n",
    "print(np.min(matrix, axis=1))"
   ],
   "metadata": {
    "trusted": true
   },
   "execution_count": null,
   "outputs": []
  },
  {
   "cell_type": "markdown",
   "source": [
    "### 8. Reshape and transpose"
   ],
   "metadata": {
    "id": "D8X16krNuT0h"
   }
  },
  {
   "cell_type": "code",
   "source": [
    "# Create a vector\n",
    "vector = np.arange(12)\n",
    "print(vector)"
   ],
   "metadata": {
    "id": "zKX2Fb1huKWA",
    "trusted": true
   },
   "execution_count": null,
   "outputs": []
  },
  {
   "cell_type": "code",
   "source": [
    "# Reshape the vector into a matrix\n",
    "matrix = vector.reshape(4, 3)\n",
    "print(matrix)"
   ],
   "metadata": {
    "trusted": true
   },
   "execution_count": null,
   "outputs": []
  },
  {
   "cell_type": "code",
   "source": [
    "# Transpose the matrix\n",
    "matrix = np.transpose(matrix)\n",
    "print(matrix)"
   ],
   "metadata": {
    "trusted": true
   },
   "execution_count": null,
   "outputs": []
  },
  {
   "cell_type": "code",
   "source": [
    "# Flatten the new matrix\n",
    "print(matrix.flatten())"
   ],
   "metadata": {
    "trusted": true
   },
   "execution_count": null,
   "outputs": []
  },
  {
   "cell_type": "markdown",
   "source": [
    "### 9. Matrix operations"
   ],
   "metadata": {
    "id": "TFioTT9xwDiW"
   }
  },
  {
   "cell_type": "code",
   "source": [
    "m1 = np.array([[1, 2, 3],\n",
    "               [4, 5, 6],\n",
    "               [7, 8, 9]])\n",
    "\n",
    "m2 = np.array([[7, 8, 9],\n",
    "               [4, 5, 6],\n",
    "               [1, 2, 3]])"
   ],
   "metadata": {
    "id": "UxrRnxz8vlW2",
    "trusted": true
   },
   "execution_count": null,
   "outputs": []
  },
  {
   "cell_type": "code",
   "source": [
    "# Element-wise summation\n",
    "print(m1+m2)"
   ],
   "metadata": {
    "trusted": true
   },
   "execution_count": null,
   "outputs": []
  },
  {
   "cell_type": "code",
   "source": [
    "# Element-wise subtraction\n",
    "print(m1-m2)"
   ],
   "metadata": {
    "trusted": true
   },
   "execution_count": null,
   "outputs": []
  },
  {
   "cell_type": "code",
   "source": [
    "# Element-wise multiplication\n",
    "print(m1*m2)"
   ],
   "metadata": {
    "trusted": true
   },
   "execution_count": null,
   "outputs": []
  },
  {
   "cell_type": "code",
   "source": [
    "# Matrix multiplication\n",
    "print(np.matmul(m1, m2))\n",
    "print(m1 @ m2)"
   ],
   "metadata": {
    "trusted": true
   },
   "execution_count": null,
   "outputs": []
  },
  {
   "cell_type": "markdown",
   "source": [
    "### 10. Random number generator\n",
    "* More examples and the complete APIs are available at: https://numpy.org/doc/stable/reference/random/generator.html"
   ],
   "metadata": {
    "id": "aD-NfHMDwtWd"
   }
  },
  {
   "cell_type": "code",
   "source": [
    "# Generate random integers uniformly from low to high-1\n",
    "low = 1\n",
    "high = 10\n",
    "\n",
    "rng = np.random.default_rng()\n",
    "print(rng.integers(low, high))\n",
    "print(rng.integers(low, high))\n",
    "print(rng.integers(low, high))"
   ],
   "metadata": {
    "id": "BwgjG1iswyDk",
    "trusted": true
   },
   "execution_count": null,
   "outputs": []
  },
  {
   "cell_type": "code",
   "source": [
    "# Generate a matrix of random integers\n",
    "print(rng.integers(low, high, size=(3, 5)))"
   ],
   "metadata": {
    "trusted": true
   },
   "execution_count": null,
   "outputs": []
  },
  {
   "cell_type": "code",
   "source": [
    "# Generate random samples from a normal distribution with given mean and standard deviation\n",
    "m = 2\n",
    "std = 0.5\n",
    "\n",
    "print(rng.normal(m, std))\n",
    "print(rng.normal(m, std))\n",
    "print(rng.normal(m, std))"
   ],
   "metadata": {
    "id": "uhiNjjawxZFO",
    "trusted": true
   },
   "execution_count": null,
   "outputs": []
  },
  {
   "cell_type": "code",
   "source": [
    "# Generate a matrix of random samples from the above normal distribution\n",
    "print(rng.normal(m, std, size=(3, 2)))"
   ],
   "metadata": {
    "trusted": true
   },
   "execution_count": null,
   "outputs": []
  },
  {
   "cell_type": "markdown",
   "source": [
    "### 11. Exercises:\n",
    "* Complete the tutorial (some of them use old Numpy APIs): https://becominghuman.ai/an-essential-guide-to-numpy-for-machine-learning-in-python-5615e1758301\n",
    "* Try more exercises: https://www.machinelearningplus.com/python/101-numpy-exercises-python/\n",
    "* Practice, practice, practice. There are a lot of online exercises!\n",
    "* Use Google, stackoverflow.com, trial & error."
   ],
   "metadata": {}
  }
 ]
}
