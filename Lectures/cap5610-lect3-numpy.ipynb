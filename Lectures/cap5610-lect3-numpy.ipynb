{
 "metadata": {
  "kernelspec": {
   "language": "python",
   "display_name": "Python 3",
   "name": "python3"
  },
  "language_info": {
   "name": "python",
   "version": "3.7.12",
   "mimetype": "text/x-python",
   "codemirror_mode": {
    "name": "ipython",
    "version": 3
   },
   "pygments_lexer": "ipython3",
   "nbconvert_exporter": "python",
   "file_extension": ".py"
  }
 },
 "nbformat_minor": 4,
 "nbformat": 4,
 "cells": [
  {
   "cell_type": "markdown",
   "source": "# CAP5610 - Numpy\n\nSource: https://becominghuman.ai/an-essential-guide-to-numpy-for-machine-learning-in-python-5615e1758301\n\nThis demo only contains a subset of the tutorial above.",
   "metadata": {
    "id": "Yqd7cIdvW0bj"
   }
  },
  {
   "cell_type": "markdown",
   "source": "### 1. Import the library\n\nFirst, we need to import the numpy library to use. Here `np` will be used as an abbreviation for `numpy`.",
   "metadata": {
    "id": "y0AHJKIsoXwp"
   }
  },
  {
   "cell_type": "code",
   "source": "import numpy as np",
   "metadata": {
    "id": "Xf_zBieKoVNA",
    "trusted": true
   },
   "execution_count": null,
   "outputs": []
  },
  {
   "cell_type": "markdown",
   "source": "### 2. Create a vector",
   "metadata": {
    "id": "hjqc4URun-kB"
   }
  },
  {
   "cell_type": "code",
   "source": "# Create a row vector from a list\nvector_row = np.array([1, 2, 3])\nprint(vector_row)\nprint(type(vector_row))\n\n# Compare with the original list\nprint([1, 2, 3])\nprint(type([1, 2, 3]))",
   "metadata": {
    "id": "ecHxwhFYoB5x",
    "trusted": true
   },
   "execution_count": null,
   "outputs": []
  },
  {
   "cell_type": "code",
   "source": "# Create a column vector from a list of lists\nvector_column = np.array([[1],[2],[3]])\nprint(vector_column)\nprint(type(vector_column))\n\n# Compare with the original list\nprint([[1],[2],[3]])\nprint(type([[1],[2],[3]]))",
   "metadata": {
    "trusted": true
   },
   "execution_count": null,
   "outputs": []
  },
  {
   "cell_type": "markdown",
   "source": "### 3. Create a matrix",
   "metadata": {
    "id": "jS6X3UDvo7J4"
   }
  },
  {
   "cell_type": "code",
   "source": "# Create a matrix from a list of lists\nmatrix = np.array([[1, 2, 3],\n                   [4, 5, 6]])\n\nprint(matrix)\nprint(type(matrix))",
   "metadata": {
    "id": "syQcuNoYo0aZ",
    "trusted": true
   },
   "execution_count": null,
   "outputs": []
  },
  {
   "cell_type": "markdown",
   "source": "### 4. Select elements",
   "metadata": {
    "id": "R3_tPIu6pSJQ"
   }
  },
  {
   "cell_type": "code",
   "source": "# Print 2nd element of vector_row\nprint(vector_row[1])",
   "metadata": {
    "id": "lDH1IbLvpW5B",
    "trusted": true
   },
   "execution_count": null,
   "outputs": []
  },
  {
   "cell_type": "code",
   "source": "# Print 3rd element of vector_column\nprint(vector_column[2])",
   "metadata": {
    "trusted": true
   },
   "execution_count": null,
   "outputs": []
  },
  {
   "cell_type": "code",
   "source": "# Print element at 1st row, 3rd column of matrix\nprint(matrix[0, 2])",
   "metadata": {
    "trusted": true
   },
   "execution_count": null,
   "outputs": []
  },
  {
   "cell_type": "code",
   "source": "print(matrix)",
   "metadata": {
    "trusted": true
   },
   "execution_count": null,
   "outputs": []
  },
  {
   "cell_type": "code",
   "source": "# Print sub-matrix with 2nd row and first two columns\nprint(matrix[1:,:2])",
   "metadata": {
    "trusted": true
   },
   "execution_count": null,
   "outputs": []
  },
  {
   "cell_type": "markdown",
   "source": "### 5. Properties of a matrix",
   "metadata": {
    "id": "p4fTAvUDrMI1"
   }
  },
  {
   "cell_type": "code",
   "source": "matrix = np.array([[1, 2, 3, 10],\n                   [4, 5, 6, 11],\n                   [7, 8, 9, 12]])\n\n# Print number of rows and columns\nprint(matrix.shape)",
   "metadata": {
    "id": "7w_IoAaprSWE",
    "trusted": true
   },
   "execution_count": null,
   "outputs": []
  },
  {
   "cell_type": "code",
   "source": "# Print number of rows and columns separately\nprint(matrix.shape[0])\nprint(matrix.shape[1])",
   "metadata": {
    "trusted": true
   },
   "execution_count": null,
   "outputs": []
  },
  {
   "cell_type": "code",
   "source": "# Print number of elements\nprint(matrix.size)",
   "metadata": {
    "trusted": true
   },
   "execution_count": null,
   "outputs": []
  },
  {
   "cell_type": "code",
   "source": "# Print number of dimensions\nprint(matrix.ndim)",
   "metadata": {
    "trusted": true
   },
   "execution_count": null,
   "outputs": []
  },
  {
   "cell_type": "markdown",
   "source": "### 6. Modifying a matrix",
   "metadata": {
    "id": "MpzVHtk4sBvT"
   }
  },
  {
   "cell_type": "code",
   "source": "matrix = np.array([[1, 2, 3, 10],\n                   [4, 5, 6, 11],\n                   [7, 8, 9, 12]])\n\n# Modify one element\nmatrix[0, 3] = 20\nprint(matrix)",
   "metadata": {
    "id": "bb-2lFYvsZZj",
    "trusted": true
   },
   "execution_count": null,
   "outputs": []
  },
  {
   "cell_type": "code",
   "source": "# Add a constant to all elements in the matrix\nmatrix += 5\nprint(matrix)",
   "metadata": {
    "trusted": true
   },
   "execution_count": null,
   "outputs": []
  },
  {
   "cell_type": "code",
   "source": "# Divide all elements in the matrix by a constant\nmatrix = matrix / 2\nprint(matrix)",
   "metadata": {
    "trusted": true
   },
   "execution_count": null,
   "outputs": []
  },
  {
   "cell_type": "code",
   "source": "# Modify one row of the matrix\nmatrix[1] = matrix[0]*2\nprint(matrix)",
   "metadata": {
    "trusted": true
   },
   "execution_count": null,
   "outputs": []
  },
  {
   "cell_type": "markdown",
   "source": "### 7. Find min and max elements",
   "metadata": {
    "id": "vJmoIxvqtvf5"
   }
  },
  {
   "cell_type": "code",
   "source": "matrix = np.array([[1, 2, 3, 10],\n                   [4, 5, 6, 11],\n                   [7, 8, 9, 12]])\n\n# Print max and min elements\nprint(np.max(matrix))\nprint(np.min(matrix))",
   "metadata": {
    "id": "BzAF7CVltOwC",
    "trusted": true
   },
   "execution_count": null,
   "outputs": []
  },
  {
   "cell_type": "code",
   "source": "# Print max element in each column\nprint(np.max(matrix, axis=0))",
   "metadata": {
    "trusted": true
   },
   "execution_count": null,
   "outputs": []
  },
  {
   "cell_type": "code",
   "source": "# Print min element in each row\nprint(np.min(matrix, axis=1))",
   "metadata": {
    "trusted": true
   },
   "execution_count": null,
   "outputs": []
  },
  {
   "cell_type": "markdown",
   "source": "### 8. Reshape and transpose",
   "metadata": {
    "id": "D8X16krNuT0h"
   }
  },
  {
   "cell_type": "code",
   "source": "# Create a vector\nvector = np.arange(12)\nprint(vector)",
   "metadata": {
    "id": "zKX2Fb1huKWA",
    "trusted": true
   },
   "execution_count": null,
   "outputs": []
  },
  {
   "cell_type": "code",
   "source": "# Reshape the vector into a matrix\nmatrix = vector.reshape(4, 3)\nprint(matrix)",
   "metadata": {
    "trusted": true
   },
   "execution_count": null,
   "outputs": []
  },
  {
   "cell_type": "code",
   "source": "# Transpose the matrix\nmatrix = np.transpose(matrix)\nprint(matrix)",
   "metadata": {
    "trusted": true
   },
   "execution_count": null,
   "outputs": []
  },
  {
   "cell_type": "code",
   "source": "# Flatten the new matrix\nprint(matrix.flatten())",
   "metadata": {
    "trusted": true
   },
   "execution_count": null,
   "outputs": []
  },
  {
   "cell_type": "markdown",
   "source": "### 9. Matrix operations",
   "metadata": {
    "id": "TFioTT9xwDiW"
   }
  },
  {
   "cell_type": "code",
   "source": "m1 = np.array([[1, 2, 3],\n               [4, 5, 6],\n               [7, 8, 9]])\n\nm2 = np.array([[7, 8, 9],\n               [4, 5, 6],\n               [1, 2, 3]])",
   "metadata": {
    "id": "UxrRnxz8vlW2",
    "trusted": true
   },
   "execution_count": null,
   "outputs": []
  },
  {
   "cell_type": "code",
   "source": "# Element-wise summation\nprint(m1+m2)",
   "metadata": {
    "trusted": true
   },
   "execution_count": null,
   "outputs": []
  },
  {
   "cell_type": "code",
   "source": "# Element-wise subtraction\nprint(m1-m2)",
   "metadata": {
    "trusted": true
   },
   "execution_count": null,
   "outputs": []
  },
  {
   "cell_type": "code",
   "source": "# Element-wise multiplication\nprint(m1*m2)",
   "metadata": {
    "trusted": true
   },
   "execution_count": null,
   "outputs": []
  },
  {
   "cell_type": "code",
   "source": "# Matrix multiplication\nprint(np.matmul(m1, m2))\nprint(m1 @ m2)",
   "metadata": {
    "trusted": true
   },
   "execution_count": null,
   "outputs": []
  },
  {
   "cell_type": "markdown",
   "source": "### 10. Random number generator\n* More examples and the complete APIs are available at: https://numpy.org/doc/stable/reference/random/generator.html",
   "metadata": {
    "id": "aD-NfHMDwtWd"
   }
  },
  {
   "cell_type": "code",
   "source": "# Generate random integers uniformly from low to high-1\nlow = 1\nhigh = 10\n\nrng = np.random.default_rng()\nprint(rng.integers(low, high))\nprint(rng.integers(low, high))\nprint(rng.integers(low, high))",
   "metadata": {
    "id": "BwgjG1iswyDk",
    "trusted": true
   },
   "execution_count": null,
   "outputs": []
  },
  {
   "cell_type": "code",
   "source": "# Generate a matrix of random integers\nprint(rng.integers(low, high, size=(3, 5)))",
   "metadata": {
    "trusted": true
   },
   "execution_count": null,
   "outputs": []
  },
  {
   "cell_type": "code",
   "source": "# Generate random samples from a normal distribution with given mean and standard deviation\nm = 2\nstd = 0.5\n\nprint(rng.normal(m, std))\nprint(rng.normal(m, std))\nprint(rng.normal(m, std))",
   "metadata": {
    "id": "uhiNjjawxZFO",
    "trusted": true
   },
   "execution_count": null,
   "outputs": []
  },
  {
   "cell_type": "code",
   "source": "# Generate a matrix of random samples from the above normal distribution\nprint(rng.normal(m, std, size=(3, 2)))",
   "metadata": {
    "trusted": true
   },
   "execution_count": null,
   "outputs": []
  },
  {
   "cell_type": "markdown",
   "source": "### 11. Exercises:\n* Complete the tutorial (some of them use old Numpy APIs): https://becominghuman.ai/an-essential-guide-to-numpy-for-machine-learning-in-python-5615e1758301\n* Try more exercises: https://www.machinelearningplus.com/python/101-numpy-exercises-python/\n* Practice, practice, practice. There are a lot of online exercises!\n* Use Google, stackoverflow.com, trial & error.",
   "metadata": {}
  }
 ]
}
