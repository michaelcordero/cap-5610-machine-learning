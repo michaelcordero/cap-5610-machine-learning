{
 "metadata": {
  "kernelspec": {
   "language": "python",
   "display_name": "Python 3",
   "name": "python3"
  },
  "language_info": {
   "pygments_lexer": "ipython3",
   "nbconvert_exporter": "python",
   "version": "3.6.4",
   "file_extension": ".py",
   "codemirror_mode": {
    "name": "ipython",
    "version": 3
   },
   "name": "python",
   "mimetype": "text/x-python"
  }
 },
 "nbformat_minor": 4,
 "nbformat": 4,
 "cells": [
  {
   "cell_type": "markdown",
   "source": [
    "# CAP5610 - Python\n",
    "\n",
    "* Here we are using a Jupyter notebook to code with Python 3. \n",
    "* A Jupyter notebook (.ipynb) file can contain text cells (such as this cell) as well as code cells.\n",
    "* You can format text cells with Markdown."
   ],
   "metadata": {
    "id": "Yqd7cIdvW0bj"
   }
  },
  {
   "cell_type": "markdown",
   "source": [
    "## 1. Arithmetic operations\n",
    "\n",
    "* We will create some variables and do arithmetic operations. \n",
    "* Note different ways to print the results and how we add comments to the code."
   ],
   "metadata": {
    "id": "jJedPDV_RMDt"
   }
  },
  {
   "cell_type": "code",
   "source": [
    "x = 10\n",
    "y = 4\n",
    "\n",
    "z = x + y\n",
    "print('Addition:', z)\n",
    "\n",
    "z = x - y\n",
    "print('Subtraction: %i' %z) # We can also print like C\n",
    "\n",
    "print('Multiplication:', x * y)\n",
    "print('Division:', x / y)\n",
    "print('Modulus:', x % y)\n",
    "print('Exponentiation:', x ** y)"
   ],
   "metadata": {
    "id": "qIq-eUMkQaIf",
    "execution": {
     "iopub.status.busy": "2022-01-14T00:10:52.554494Z",
     "iopub.execute_input": "2022-01-14T00:10:52.554797Z",
     "iopub.status.idle": "2022-01-14T00:10:52.587293Z",
     "shell.execute_reply.started": "2022-01-14T00:10:52.554719Z",
     "shell.execute_reply": "2022-01-14T00:10:52.585796Z"
    },
    "trusted": true
   },
   "execution_count": null,
   "outputs": []
  },
  {
   "cell_type": "markdown",
   "source": [
    "## 2. Lists\n",
    "* A commonly used data structure\n",
    "* Can store different objects, even if they have different types\n",
    "* Complete API and examples for Python list: https://docs.python.org/3/tutorial/datastructures.html"
   ],
   "metadata": {
    "id": "IJPcB_XYY_j-"
   }
  },
  {
   "cell_type": "code",
   "source": [
    "# Create a new list with 7 elements\n",
    "lst = [1, 3, 6, 4, 5, 3, 6]\n",
    "\n",
    "print(lst) # Print the list's content\n",
    "print(type(lst)) # Print the type of a variable"
   ],
   "metadata": {
    "id": "_h7w0-lxZQ_T",
    "execution": {
     "iopub.status.busy": "2022-01-14T00:12:13.71503Z",
     "iopub.execute_input": "2022-01-14T00:12:13.715296Z",
     "iopub.status.idle": "2022-01-14T00:12:13.721032Z",
     "shell.execute_reply.started": "2022-01-14T00:12:13.715268Z",
     "shell.execute_reply": "2022-01-14T00:12:13.72045Z"
    },
    "trusted": true
   },
   "execution_count": null,
   "outputs": []
  },
  {
   "cell_type": "code",
   "source": [
    "print(lst[2]) # Access the element at an index\n",
    "print(lst[2:5]) # Access a sublist, this is called 'slicing'"
   ],
   "metadata": {
    "execution": {
     "iopub.status.busy": "2022-01-14T00:13:40.340126Z",
     "iopub.execute_input": "2022-01-14T00:13:40.340461Z",
     "iopub.status.idle": "2022-01-14T00:13:40.344423Z",
     "shell.execute_reply.started": "2022-01-14T00:13:40.340436Z",
     "shell.execute_reply": "2022-01-14T00:13:40.343593Z"
    },
    "trusted": true
   },
   "execution_count": null,
   "outputs": []
  },
  {
   "cell_type": "code",
   "source": [
    "# Add one element to the end of the list\n",
    "lst.append(1)\n",
    "print(lst)"
   ],
   "metadata": {
    "execution": {
     "iopub.status.busy": "2022-01-14T00:14:03.691549Z",
     "iopub.execute_input": "2022-01-14T00:14:03.691794Z",
     "iopub.status.idle": "2022-01-14T00:14:03.700521Z",
     "shell.execute_reply.started": "2022-01-14T00:14:03.691771Z",
     "shell.execute_reply": "2022-01-14T00:14:03.699442Z"
    },
    "trusted": true
   },
   "execution_count": null,
   "outputs": []
  },
  {
   "cell_type": "code",
   "source": [
    "# Remove first appearance of a value from list. How do we remove by index?\n",
    "lst.remove(3)\n",
    "print(lst)"
   ],
   "metadata": {
    "execution": {
     "iopub.status.busy": "2022-01-14T00:14:34.194864Z",
     "iopub.execute_input": "2022-01-14T00:14:34.195134Z",
     "iopub.status.idle": "2022-01-14T00:14:34.200039Z",
     "shell.execute_reply.started": "2022-01-14T00:14:34.195107Z",
     "shell.execute_reply": "2022-01-14T00:14:34.199339Z"
    },
    "trusted": true
   },
   "execution_count": null,
   "outputs": []
  },
  {
   "cell_type": "code",
   "source": [
    "# Add many elements to the list\n",
    "lst.extend([7, 8])\n",
    "print(lst)"
   ],
   "metadata": {
    "execution": {
     "iopub.status.busy": "2022-01-14T00:16:06.289834Z",
     "iopub.execute_input": "2022-01-14T00:16:06.290237Z",
     "iopub.status.idle": "2022-01-14T00:16:06.296191Z",
     "shell.execute_reply.started": "2022-01-14T00:16:06.290202Z",
     "shell.execute_reply": "2022-01-14T00:16:06.294572Z"
    },
    "trusted": true
   },
   "execution_count": null,
   "outputs": []
  },
  {
   "cell_type": "markdown",
   "source": [
    "## 3. Sets\n",
    "* Unordered collection with no duplicate elements\n",
    "* API and examples for Sets: https://docs.python.org/3/tutorial/datastructures.html#sets"
   ],
   "metadata": {
    "id": "xt4MLuf4bSZC"
   }
  },
  {
   "cell_type": "code",
   "source": [
    "# Create a set from the previous list\n",
    "s = set(lst)\n",
    "print(s)\n",
    "print(type(s))"
   ],
   "metadata": {
    "id": "3Pfwg4UTZxGt",
    "execution": {
     "iopub.status.busy": "2022-01-14T00:17:28.225812Z",
     "iopub.execute_input": "2022-01-14T00:17:28.226114Z",
     "iopub.status.idle": "2022-01-14T00:17:28.232766Z",
     "shell.execute_reply.started": "2022-01-14T00:17:28.226085Z",
     "shell.execute_reply": "2022-01-14T00:17:28.232045Z"
    },
    "trusted": true
   },
   "execution_count": null,
   "outputs": []
  },
  {
   "cell_type": "code",
   "source": [
    "# Add elements to set\n",
    "s = s.union({7, 9})\n",
    "print(s)"
   ],
   "metadata": {
    "execution": {
     "iopub.status.busy": "2022-01-14T00:18:11.810254Z",
     "iopub.execute_input": "2022-01-14T00:18:11.810483Z",
     "iopub.status.idle": "2022-01-14T00:18:11.816464Z",
     "shell.execute_reply.started": "2022-01-14T00:18:11.810459Z",
     "shell.execute_reply": "2022-01-14T00:18:11.814998Z"
    },
    "trusted": true
   },
   "execution_count": null,
   "outputs": []
  },
  {
   "cell_type": "code",
   "source": [
    "# Set difference\n",
    "s = s.difference({6, 7, 10})\n",
    "print(s)"
   ],
   "metadata": {
    "execution": {
     "iopub.status.busy": "2022-01-14T00:19:02.649439Z",
     "iopub.execute_input": "2022-01-14T00:19:02.649677Z",
     "iopub.status.idle": "2022-01-14T00:19:02.654417Z",
     "shell.execute_reply.started": "2022-01-14T00:19:02.649653Z",
     "shell.execute_reply": "2022-01-14T00:19:02.653644Z"
    },
    "trusted": true
   },
   "execution_count": null,
   "outputs": []
  },
  {
   "cell_type": "markdown",
   "source": [
    "## 4. Tuples\n",
    "* Tuples are similar to lists, but immutable.\n",
    "* API and examples for Tuples: https://docs.python.org/3/tutorial/datastructures.html#tuples-and-sequences"
   ],
   "metadata": {
    "id": "dWHXQn3Ecmsw"
   }
  },
  {
   "cell_type": "code",
   "source": [
    "# Create a new tuple with 4 elements\n",
    "t = (1, 2, 4, 5)\n",
    "print(t)\n",
    "print(type(t))\n",
    "print(t[2])\n",
    "print(t[2:4])"
   ],
   "metadata": {
    "id": "mgFk6v85bRoC",
    "execution": {
     "iopub.status.busy": "2022-01-14T00:19:32.841734Z",
     "iopub.execute_input": "2022-01-14T00:19:32.842078Z",
     "iopub.status.idle": "2022-01-14T00:19:32.849413Z",
     "shell.execute_reply.started": "2022-01-14T00:19:32.842048Z",
     "shell.execute_reply": "2022-01-14T00:19:32.848559Z"
    },
    "trusted": true
   },
   "execution_count": null,
   "outputs": []
  },
  {
   "cell_type": "code",
   "source": [
    "# Add elements to a tuple\n",
    "t1 = t + (3, 2) # This operator concatenates two tuples together\n",
    "print(t1)\n",
    "\n",
    "# Remove 4 from the tuple\n",
    "t2 = t1[:2] + t1[3:]\n",
    "print(t2)"
   ],
   "metadata": {
    "execution": {
     "iopub.status.busy": "2022-01-14T00:20:35.353889Z",
     "iopub.execute_input": "2022-01-14T00:20:35.354206Z",
     "iopub.status.idle": "2022-01-14T00:20:35.361841Z",
     "shell.execute_reply.started": "2022-01-14T00:20:35.354173Z",
     "shell.execute_reply": "2022-01-14T00:20:35.360637Z"
    },
    "trusted": true
   },
   "execution_count": null,
   "outputs": []
  },
  {
   "cell_type": "markdown",
   "source": [
    "## 5. Dictionary\n",
    "* Data structure that contains unordered mappings of unique keys to values\n",
    "* API and examples for dictionary: https://docs.python.org/3/tutorial/datastructures.html#dictionaries"
   ],
   "metadata": {
    "id": "3ftCf7ttfSRM"
   }
  },
  {
   "cell_type": "code",
   "source": [
    "# Create new dictionary with 3 key-value pairs\n",
    "d = {'key1': 'value1', 'key2': 3, 'key3': [2, 4]}\n",
    "print(d)\n",
    "print(d['key3'])"
   ],
   "metadata": {
    "id": "xT7NUsUUbRrC",
    "execution": {
     "iopub.status.busy": "2022-01-14T00:21:59.00955Z",
     "iopub.execute_input": "2022-01-14T00:21:59.010495Z",
     "iopub.status.idle": "2022-01-14T00:21:59.016988Z",
     "shell.execute_reply.started": "2022-01-14T00:21:59.010437Z",
     "shell.execute_reply": "2022-01-14T00:21:59.016095Z"
    },
    "trusted": true
   },
   "execution_count": null,
   "outputs": []
  },
  {
   "cell_type": "code",
   "source": [
    "# Add element to dictionary\n",
    "d['key4'] = 'new element'\n",
    "print(d)"
   ],
   "metadata": {
    "execution": {
     "iopub.status.busy": "2022-01-14T00:22:14.599926Z",
     "iopub.execute_input": "2022-01-14T00:22:14.600238Z",
     "iopub.status.idle": "2022-01-14T00:22:14.605237Z",
     "shell.execute_reply.started": "2022-01-14T00:22:14.600208Z",
     "shell.execute_reply": "2022-01-14T00:22:14.60416Z"
    },
    "trusted": true
   },
   "execution_count": null,
   "outputs": []
  },
  {
   "cell_type": "code",
   "source": [
    "# Delete element from dictionary\n",
    "del d['key1']\n",
    "print(d)"
   ],
   "metadata": {
    "execution": {
     "iopub.status.busy": "2022-01-14T00:22:30.452669Z",
     "iopub.execute_input": "2022-01-14T00:22:30.453796Z",
     "iopub.status.idle": "2022-01-14T00:22:30.459818Z",
     "shell.execute_reply.started": "2022-01-14T00:22:30.453715Z",
     "shell.execute_reply": "2022-01-14T00:22:30.458686Z"
    },
    "trusted": true
   },
   "execution_count": null,
   "outputs": []
  },
  {
   "cell_type": "markdown",
   "source": [
    "## 6. Strings\n",
    "* You can access substring by slicing\n",
    "* Negative index can be used to count from the end of the string (or list)\n",
    "* API and examples for strings: https://docs.python.org/3/library/string.html"
   ],
   "metadata": {
    "id": "kBcIXGjeTYex"
   }
  },
  {
   "cell_type": "code",
   "source": [
    "# Create a new string\n",
    "s = 'I am taking CAP5610!'\n",
    "print(s)"
   ],
   "metadata": {
    "id": "v003CJyWTu2I",
    "execution": {
     "iopub.status.busy": "2022-01-14T00:22:56.05429Z",
     "iopub.execute_input": "2022-01-14T00:22:56.054895Z",
     "iopub.status.idle": "2022-01-14T00:22:56.060618Z",
     "shell.execute_reply.started": "2022-01-14T00:22:56.054856Z",
     "shell.execute_reply": "2022-01-14T00:22:56.059781Z"
    },
    "trusted": true
   },
   "execution_count": null,
   "outputs": []
  },
  {
   "cell_type": "code",
   "source": [
    "# Print some substrings, note how negative index can be used to count from the end of the string\n",
    "print(\"These substrings are the same: %s, %s\" %(s[12:19], s[-8:-1]))\n",
    "print(\"Some other substrings: %s, %s\" %(s[:4], s[12:]))"
   ],
   "metadata": {
    "execution": {
     "iopub.status.busy": "2022-01-14T00:23:58.192322Z",
     "iopub.execute_input": "2022-01-14T00:23:58.193594Z",
     "iopub.status.idle": "2022-01-14T00:23:58.20065Z",
     "shell.execute_reply.started": "2022-01-14T00:23:58.193515Z",
     "shell.execute_reply": "2022-01-14T00:23:58.200022Z"
    },
    "trusted": true
   },
   "execution_count": null,
   "outputs": []
  },
  {
   "cell_type": "code",
   "source": [
    "\"\"\" We can split a string into tokens \"\"\"\n",
    "tokens = s.split()\n",
    "print(\"Tokens:\", tokens)"
   ],
   "metadata": {
    "execution": {
     "iopub.status.busy": "2022-01-14T00:25:11.640716Z",
     "iopub.execute_input": "2022-01-14T00:25:11.641207Z",
     "iopub.status.idle": "2022-01-14T00:25:11.647077Z",
     "shell.execute_reply.started": "2022-01-14T00:25:11.641165Z",
     "shell.execute_reply": "2022-01-14T00:25:11.646293Z"
    },
    "trusted": true
   },
   "execution_count": null,
   "outputs": []
  },
  {
   "cell_type": "markdown",
   "source": [
    "## 7. Code flow\n",
    "* Python uses **indentation** to control blocks of code. \n",
    "* Codes in the same block must have the same indentation. \n",
    "* It's important to be consistent with *tab* and *space* here. \n",
    "* If you use other editors, it would be best to convert all tabs to spaces to avoid errors. For Kaggle, it should already be done for you."
   ],
   "metadata": {
    "id": "Pz1P2k2UfXwt"
   }
  },
  {
   "cell_type": "code",
   "source": [
    "# Use for loop to add elements one-by-one to a list\n",
    "lst = []\n",
    "for i in range(10):\n",
    "    lst.append(i)\n",
    "\n",
    "print(lst)"
   ],
   "metadata": {
    "id": "lilCy0gaqOeB",
    "execution": {
     "iopub.status.busy": "2022-01-14T00:26:55.526698Z",
     "iopub.execute_input": "2022-01-14T00:26:55.527553Z",
     "iopub.status.idle": "2022-01-14T00:26:55.532432Z",
     "shell.execute_reply.started": "2022-01-14T00:26:55.527492Z",
     "shell.execute_reply": "2022-01-14T00:26:55.531828Z"
    },
    "trusted": true
   },
   "execution_count": null,
   "outputs": []
  },
  {
   "cell_type": "code",
   "source": [
    "# Use while loop to print numbers smaller than 5\n",
    "i = 0\n",
    "while i < 5:\n",
    "    print(i)\n",
    "    i += 1"
   ],
   "metadata": {
    "execution": {
     "iopub.status.busy": "2022-01-14T00:27:24.518742Z",
     "iopub.execute_input": "2022-01-14T00:27:24.519014Z",
     "iopub.status.idle": "2022-01-14T00:27:24.525229Z",
     "shell.execute_reply.started": "2022-01-14T00:27:24.518985Z",
     "shell.execute_reply": "2022-01-14T00:27:24.524208Z"
    },
    "trusted": true
   },
   "execution_count": null,
   "outputs": []
  },
  {
   "cell_type": "code",
   "source": [
    "# A very handy one-line loop\n",
    "lst = [i*2 for i in range(3, 8)]\n",
    "print(lst)"
   ],
   "metadata": {
    "execution": {
     "iopub.status.busy": "2022-01-14T00:29:04.992268Z",
     "iopub.execute_input": "2022-01-14T00:29:04.992537Z",
     "iopub.status.idle": "2022-01-14T00:29:04.998176Z",
     "shell.execute_reply.started": "2022-01-14T00:29:04.992511Z",
     "shell.execute_reply": "2022-01-14T00:29:04.997103Z"
    },
    "trusted": true
   },
   "execution_count": null,
   "outputs": []
  },
  {
   "cell_type": "code",
   "source": [
    "# Another one-line loop\n",
    "lst = [i*j for i in range(4) for j in range(1, 3)]\n",
    "print(lst)"
   ],
   "metadata": {
    "execution": {
     "iopub.status.busy": "2022-01-14T00:32:23.440916Z",
     "iopub.execute_input": "2022-01-14T00:32:23.441156Z",
     "iopub.status.idle": "2022-01-14T00:32:23.446478Z",
     "shell.execute_reply.started": "2022-01-14T00:32:23.441133Z",
     "shell.execute_reply": "2022-01-14T00:32:23.445837Z"
    },
    "trusted": true
   },
   "execution_count": null,
   "outputs": []
  },
  {
   "cell_type": "markdown",
   "source": [
    "## 8. Functions\n",
    "* Functions in Python can be define with or without type information. \n",
    "* They can also take other functions as inputs (higher-order functions)."
   ],
   "metadata": {
    "id": "rLYpo3i4fbxL"
   }
  },
  {
   "cell_type": "code",
   "source": [
    "# Define a new function f\n",
    "def f(x, y):\n",
    "    return x ** y\n",
    "\n",
    "print(f(2, 3))"
   ],
   "metadata": {
    "id": "YYTto0xEuXeE",
    "execution": {
     "iopub.status.busy": "2022-01-14T00:33:32.927888Z",
     "iopub.execute_input": "2022-01-14T00:33:32.928363Z",
     "iopub.status.idle": "2022-01-14T00:33:32.932569Z",
     "shell.execute_reply.started": "2022-01-14T00:33:32.928334Z",
     "shell.execute_reply": "2022-01-14T00:33:32.932114Z"
    },
    "trusted": true
   },
   "execution_count": null,
   "outputs": []
  },
  {
   "cell_type": "code",
   "source": [
    "# Apply f to each element of a list\n",
    "l = [2, 4, 7, 3]\n",
    "l1 = [f(x, 2) for x in l]\n",
    "print(l1)"
   ],
   "metadata": {
    "execution": {
     "iopub.status.busy": "2022-01-14T00:34:09.271511Z",
     "iopub.execute_input": "2022-01-14T00:34:09.271887Z",
     "iopub.status.idle": "2022-01-14T00:34:09.277472Z",
     "shell.execute_reply.started": "2022-01-14T00:34:09.271846Z",
     "shell.execute_reply": "2022-01-14T00:34:09.276771Z"
    },
    "trusted": true
   },
   "execution_count": null,
   "outputs": []
  },
  {
   "cell_type": "code",
   "source": [
    "# Function can also take another function as argument\n",
    "def g(func, z):\n",
    "    x = func(z, 2)\n",
    "    return x + 1\n",
    "\n",
    "y = g(f, 3)\n",
    "\n",
    "print(y)"
   ],
   "metadata": {
    "execution": {
     "iopub.status.busy": "2022-01-14T00:35:42.871044Z",
     "iopub.execute_input": "2022-01-14T00:35:42.871376Z",
     "iopub.status.idle": "2022-01-14T00:35:42.876189Z",
     "shell.execute_reply.started": "2022-01-14T00:35:42.871349Z",
     "shell.execute_reply": "2022-01-14T00:35:42.875409Z"
    },
    "trusted": true
   },
   "execution_count": null,
   "outputs": []
  },
  {
   "cell_type": "code",
   "source": [
    "# Some arguments can take default values (only the last arguments)\n",
    "def h(x, y=3, z=5):\n",
    "    return [x, y, z]\n",
    "\n",
    "print(h(3, 4, 5))\n",
    "print(h(3))"
   ],
   "metadata": {
    "execution": {
     "iopub.status.busy": "2022-01-14T00:37:03.967447Z",
     "iopub.execute_input": "2022-01-14T00:37:03.967686Z",
     "iopub.status.idle": "2022-01-14T00:37:03.972723Z",
     "shell.execute_reply.started": "2022-01-14T00:37:03.967662Z",
     "shell.execute_reply": "2022-01-14T00:37:03.972054Z"
    },
    "trusted": true
   },
   "execution_count": null,
   "outputs": []
  },
  {
   "cell_type": "markdown",
   "source": [
    "## 9. Object-oriented Python"
   ],
   "metadata": {
    "id": "oB85JQTMffN9"
   }
  },
  {
   "cell_type": "code",
   "source": [
    "# Define a class\n",
    "class Multiply:\n",
    "    \"\"\" A class that will multiply an input by a factor \"\"\"\n",
    "\n",
    "    # Constructor\n",
    "    def __init__(self, factor=2):\n",
    "        self.factor = factor\n",
    "\n",
    "    # Multiply method\n",
    "    def mul(self, x):\n",
    "        return x * self.factor"
   ],
   "metadata": {
    "id": "RY7r318fx95m",
    "execution": {
     "iopub.status.busy": "2022-01-14T00:38:35.109752Z",
     "iopub.execute_input": "2022-01-14T00:38:35.110049Z",
     "iopub.status.idle": "2022-01-14T00:38:35.117178Z",
     "shell.execute_reply.started": "2022-01-14T00:38:35.11002Z",
     "shell.execute_reply": "2022-01-14T00:38:35.115753Z"
    },
    "trusted": true
   },
   "execution_count": null,
   "outputs": []
  },
  {
   "cell_type": "code",
   "source": [
    "# Create an object and call the mul method\n",
    "m3 = Multiply(3)\n",
    "print(m3.mul(10))"
   ],
   "metadata": {
    "execution": {
     "iopub.status.busy": "2022-01-14T00:38:42.532812Z",
     "iopub.execute_input": "2022-01-14T00:38:42.53367Z",
     "iopub.status.idle": "2022-01-14T00:38:42.537556Z",
     "shell.execute_reply.started": "2022-01-14T00:38:42.53364Z",
     "shell.execute_reply": "2022-01-14T00:38:42.536803Z"
    },
    "trusted": true
   },
   "execution_count": null,
   "outputs": []
  },
  {
   "cell_type": "code",
   "source": [
    "m2 = Multiply()\n",
    "print(m2.mul(10))"
   ],
   "metadata": {
    "execution": {
     "iopub.status.busy": "2022-01-14T00:38:59.951124Z",
     "iopub.execute_input": "2022-01-14T00:38:59.951474Z",
     "iopub.status.idle": "2022-01-14T00:38:59.95966Z",
     "shell.execute_reply.started": "2022-01-14T00:38:59.951449Z",
     "shell.execute_reply": "2022-01-14T00:38:59.958263Z"
    },
    "trusted": true
   },
   "execution_count": null,
   "outputs": []
  },
  {
   "cell_type": "code",
   "source": [
    "# Define an inherited class\n",
    "class MultiplyBy4(Multiply):\n",
    "    \"\"\" A class that will multiply an input by 4 \"\"\"\n",
    "\n",
    "    # Override the constructor\n",
    "    def __init__(self):\n",
    "        super().__init__(4) # Call the constructor of the parent class\n",
    "\n",
    "# Create an object and call the mul method\n",
    "m4 = MultiplyBy4()\n",
    "print(m4.mul(7))"
   ],
   "metadata": {
    "id": "b_OzHjcp1HeB",
    "execution": {
     "iopub.status.busy": "2022-01-14T00:39:43.055593Z",
     "iopub.execute_input": "2022-01-14T00:39:43.055866Z",
     "iopub.status.idle": "2022-01-14T00:39:43.061771Z",
     "shell.execute_reply.started": "2022-01-14T00:39:43.055838Z",
     "shell.execute_reply": "2022-01-14T00:39:43.061013Z"
    },
    "trusted": true
   },
   "execution_count": null,
   "outputs": []
  },
  {
   "cell_type": "markdown",
   "source": [
    "## 10. Exercises\n",
    "* Complete the short Python tutorial: https://medium.com/codex/python-a-short-tutorial-f1d9c65b6e87\n",
    "* Complete the long Python tutorial: https://www.w3schools.com/PYTHON/default.asp"
   ],
   "metadata": {}
  }
 ]
}
