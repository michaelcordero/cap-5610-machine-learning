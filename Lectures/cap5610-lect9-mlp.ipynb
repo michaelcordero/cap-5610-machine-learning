{
 "metadata": {
  "kernelspec": {
   "language": "python",
   "display_name": "Python 3",
   "name": "python3"
  },
  "language_info": {
   "name": "python",
   "version": "3.7.12",
   "mimetype": "text/x-python",
   "codemirror_mode": {
    "name": "ipython",
    "version": 3
   },
   "pygments_lexer": "ipython3",
   "nbconvert_exporter": "python",
   "file_extension": ".py"
  }
 },
 "nbformat_minor": 4,
 "nbformat": 4,
 "cells": [
  {
   "cell_type": "markdown",
   "source": "# Multi-layer perceptron\n\nIn this demo, we will train and test a multi-layer perceptron model on the MNIST handwritten digits dataset.",
   "metadata": {
    "id": "63GSckRspoZJ"
   }
  },
  {
   "cell_type": "markdown",
   "source": "## 1. Load dataset\n\nTo load the original MNIST dataset, we can use the [fetch_openml](https://scikit-learn.org/stable/modules/generated/sklearn.datasets.fetch_openml.html#sklearn.datasets.fetch_openml) method. Since this method will need to download the dataset and load it into memory, it will take a while.\n\nNote that an MNIST image has shape 28 x 28. Here the images have already been flatten to a vector of size 784.",
   "metadata": {
    "id": "h9MDqr8IxNuh"
   }
  },
  {
   "cell_type": "code",
   "source": "from sklearn.datasets import fetch_openml\n\nX, Y = fetch_openml('mnist_784', version=1, return_X_y=True, as_frame=False)\nX = X / 255.  # Scale the pixel values to be in [0, 1]\n\nprint(X.shape)\nprint(Y.shape)",
   "metadata": {
    "id": "MefuasTHjBvI",
    "trusted": true
   },
   "execution_count": null,
   "outputs": []
  },
  {
   "cell_type": "markdown",
   "source": "## 2. Split dataset into train/test sets\n\nTraditionally, we use 10,000 examples for the test set.",
   "metadata": {
    "id": "LYk2_QvLy0HD"
   }
  },
  {
   "cell_type": "code",
   "source": "from sklearn.model_selection import train_test_split\n\nX_train, X_test, Y_train, Y_test = train_test_split(X, Y, test_size=10000, random_state=42)\n\nprint(X_train.shape)\nprint(X_test.shape)",
   "metadata": {
    "id": "j4IkRKKHyzkI",
    "trusted": true
   },
   "execution_count": null,
   "outputs": []
  },
  {
   "cell_type": "markdown",
   "source": "## 3. Show a training example and its label\n\nWe can reshape an example (with index **img_id**) in the training set into a 28 x 28 matrix and plot it using matplotlib.",
   "metadata": {
    "id": "8WoYyG_d0WaW"
   }
  },
  {
   "cell_type": "code",
   "source": "import matplotlib.pyplot as plt\n\nimg_id = 26\nimage = X_train[img_id].reshape((28, 28))\nlabel = Y_train[img_id]\n\nplt.imshow(image)\nplt.show()\nprint(label)",
   "metadata": {
    "id": "ZOmvIG8A0bRr",
    "trusted": true
   },
   "execution_count": null,
   "outputs": []
  },
  {
   "cell_type": "markdown",
   "source": "### 4. Define and train an MLP classifier\n\nWe will define and train an MLP classifier with one hidden layer that contains 50 neurons and uses ReLU activation. This classifier will be trained with SGD for 30 epochs. We also set 'verbose=True' to track the training progress.\n\nThe API for this classifier is at: https://scikit-learn.org/stable/modules/generated/sklearn.neural_network.MLPClassifier.html",
   "metadata": {
    "id": "v5_wyZRu6CF_"
   }
  },
  {
   "cell_type": "code",
   "source": "from sklearn.neural_network import MLPClassifier\n\nmlp = MLPClassifier(hidden_layer_sizes=(50,), max_iter=30, solver='sgd', verbose=True)\nmlp.fit(X_train, Y_train)",
   "metadata": {
    "id": "34kjAIGf6Ghn",
    "trusted": true
   },
   "execution_count": null,
   "outputs": []
  },
  {
   "cell_type": "markdown",
   "source": "## 5. Show a test example and its predicted label",
   "metadata": {
    "id": "euZHnyEo6Uqx"
   }
  },
  {
   "cell_type": "code",
   "source": "img_id = 30\nimage = X_test[img_id]\n\n# Convert the image into 28 x 28 matrix to plot\nplt.imshow(image.reshape((28, 28)))\nplt.show()\n\nprint(image.shape)\n\n# Convert the image vector into a matrix 1 x 784 before prediction\npredicted_label = mlp.predict(image.reshape((1, 784)))\nprint(predicted_label)",
   "metadata": {
    "id": "8K4UYbZx6Yu7",
    "trusted": true
   },
   "execution_count": null,
   "outputs": []
  },
  {
   "cell_type": "markdown",
   "source": "### 6. Evaluate the trained MLP on the test set",
   "metadata": {
    "id": "oKY3G5F66ci_"
   }
  },
  {
   "cell_type": "code",
   "source": "from sklearn.metrics import accuracy_score\n\nY_pred = mlp.predict(X_test)\nacc = accuracy_score(Y_test, Y_pred)\nprint('Accuracy on test set:', acc)",
   "metadata": {
    "id": "RYHTLYBl6nzI",
    "trusted": true
   },
   "execution_count": null,
   "outputs": []
  }
 ]
}
