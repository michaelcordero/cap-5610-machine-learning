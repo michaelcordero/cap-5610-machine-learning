{
 "metadata": {
  "kernelspec": {
   "language": "python",
   "display_name": "Python 3",
   "name": "python3"
  },
  "language_info": {
   "pygments_lexer": "ipython3",
   "nbconvert_exporter": "python",
   "version": "3.6.4",
   "file_extension": ".py",
   "codemirror_mode": {
    "name": "ipython",
    "version": 3
   },
   "name": "python",
   "mimetype": "text/x-python"
  }
 },
 "nbformat_minor": 4,
 "nbformat": 4,
 "cells": [
  {
   "cell_type": "markdown",
   "source": [
    "# CAP5610 - Linear regression\n",
    "* In this demo, we will train and test linear regression models on a toy linear dataset: $Y = 10*X + \\epsilon$, where $\\epsilon$ is Gaussian noise with zero mean and standard deviation 0.8. \n",
    "* You can also use sklearn's API to generate different datasets: https://scikit-learn.org/stable/modules/classes.html#samples-generator\n",
    "* Here we will generate the dataset manually."
   ],
   "metadata": {
    "id": "63GSckRspoZJ"
   }
  },
  {
   "cell_type": "markdown",
   "source": [
    "### 1. Generate the toy dataset\n",
    "* We generate a dataset with 200 samples.\n",
    "* An input $x$ contains 1 feature uniformly drawn from (-1, 1).\n",
    "* The corresponding output is $10*x + \\epsilon$, where $\\epsilon \\sim N(0, 0.8^2)$.\n",
    "* We store all the inputs into a matrix $X$ and store the corresponding labels into a matrix $Y$."
   ],
   "metadata": {}
  },
  {
   "cell_type": "code",
   "source": [
    "import numpy as np\n",
    "\n",
    "# Create a random number generator with fixed seed\n",
    "rng = np.random.default_rng(12345)\n",
    "n_samples = 200\n",
    "\n",
    "# We randomly draw X, noise, and compute Y\n",
    "X = rng.uniform(-1, 1, size=(n_samples, 1))\n",
    "noise = rng.normal(scale=0.8, size=(n_samples, 1))\n",
    "Y = 10*X + noise"
   ],
   "metadata": {
    "id": "TVg4dhf0pl15",
    "execution": {
     "iopub.status.busy": "2022-01-25T23:36:04.832006Z",
     "iopub.execute_input": "2022-01-25T23:36:04.832386Z",
     "iopub.status.idle": "2022-01-25T23:36:04.859081Z",
     "shell.execute_reply.started": "2022-01-25T23:36:04.832278Z",
     "shell.execute_reply": "2022-01-25T23:36:04.85844Z"
    },
    "trusted": true
   },
   "execution_count": null,
   "outputs": []
  },
  {
   "cell_type": "code",
   "source": [
    "# Print some information of the dataset\n",
    "print(X.shape)\n",
    "print(Y.shape)\n",
    "\n",
    "print(X[:5])\n",
    "print(Y[:5])"
   ],
   "metadata": {
    "execution": {
     "iopub.status.busy": "2022-01-25T23:36:37.822018Z",
     "iopub.execute_input": "2022-01-25T23:36:37.822823Z",
     "iopub.status.idle": "2022-01-25T23:36:37.829416Z",
     "shell.execute_reply.started": "2022-01-25T23:36:37.822787Z",
     "shell.execute_reply": "2022-01-25T23:36:37.828584Z"
    },
    "trusted": true
   },
   "execution_count": null,
   "outputs": []
  },
  {
   "cell_type": "markdown",
   "source": [
    "### 2. Visualize the dataset\n",
    "* We can visualize the dataset using the matplotlib library."
   ],
   "metadata": {}
  },
  {
   "cell_type": "code",
   "source": [
    "import matplotlib.pyplot as plt\n",
    "\n",
    "plt.scatter(X, Y) # Plot all data points with default color\n",
    "plt.show() # Show the plot"
   ],
   "metadata": {
    "execution": {
     "iopub.status.busy": "2022-01-25T23:37:48.790121Z",
     "iopub.execute_input": "2022-01-25T23:37:48.790915Z",
     "iopub.status.idle": "2022-01-25T23:37:49.038413Z",
     "shell.execute_reply.started": "2022-01-25T23:37:48.790874Z",
     "shell.execute_reply": "2022-01-25T23:37:49.037573Z"
    },
    "trusted": true
   },
   "execution_count": null,
   "outputs": []
  },
  {
   "cell_type": "markdown",
   "source": [
    "### 3. Create train/test sets\n",
    "* We will randomly split the dataset into a train and a test set.\n",
    "* Sklearn already has a function to do that. The API for this function is at: https://scikit-learn.org/stable/modules/generated/sklearn.model_selection.train_test_split.html.\n",
    "* Here the test set will be 40% of the whole dataset."
   ],
   "metadata": {
    "id": "BtthSTNR5zcn"
   }
  },
  {
   "cell_type": "code",
   "source": [
    "from sklearn.model_selection import train_test_split\n",
    "\n",
    "X_train, X_test, Y_train, Y_test = train_test_split(X, Y, test_size=0.4, random_state=10)\n",
    "\n",
    "print(X_train.shape, X_test.shape)"
   ],
   "metadata": {
    "id": "eW13wklJ532_",
    "execution": {
     "iopub.status.busy": "2022-01-25T23:40:31.918228Z",
     "iopub.execute_input": "2022-01-25T23:40:31.91856Z",
     "iopub.status.idle": "2022-01-25T23:40:32.996305Z",
     "shell.execute_reply.started": "2022-01-25T23:40:31.918525Z",
     "shell.execute_reply": "2022-01-25T23:40:32.995178Z"
    },
    "trusted": true
   },
   "execution_count": null,
   "outputs": []
  },
  {
   "cell_type": "markdown",
   "source": [
    "### 4. Visualize the train/test sets\n",
    "* We now visualize the train/test sets by plotting them with different colors"
   ],
   "metadata": {
    "id": "fDeb80nf1btI"
   }
  },
  {
   "cell_type": "code",
   "source": [
    "import matplotlib.pyplot as plt\n",
    "\n",
    "plt.scatter(X_train, Y_train, color='black') # Plot train points with black color\n",
    "plt.scatter(X_test, Y_test, color='red') # Plot test points with red color\n",
    "plt.show() # Show the plot"
   ],
   "metadata": {
    "id": "RxvUrMKOyZyY",
    "execution": {
     "iopub.status.busy": "2022-01-25T23:41:14.086392Z",
     "iopub.execute_input": "2022-01-25T23:41:14.086704Z",
     "iopub.status.idle": "2022-01-25T23:41:14.244978Z",
     "shell.execute_reply.started": "2022-01-25T23:41:14.086675Z",
     "shell.execute_reply": "2022-01-25T23:41:14.244148Z"
    },
    "trusted": true
   },
   "execution_count": null,
   "outputs": []
  },
  {
   "cell_type": "markdown",
   "source": [
    "### 5. Train a linear regression model on the train set\n",
    "* Now we create and train a linear regression model on the train set.\n",
    "* We can create a LinearRegression object for the model.\n",
    "* Then we call the function fit() to train the model on a dataset.\n",
    "* The full API for the model is at: https://scikit-learn.org/stable/modules/generated/sklearn.linear_model.LinearRegression.html"
   ],
   "metadata": {
    "id": "v5_wyZRu6CF_"
   }
  },
  {
   "cell_type": "code",
   "source": [
    "from sklearn.linear_model import LinearRegression\n",
    "\n",
    "# Create a linear regression model with default parameters\n",
    "model = LinearRegression()\n",
    "\n",
    "# Train the model on the train set\n",
    "model.fit(X_train, Y_train)"
   ],
   "metadata": {
    "id": "34kjAIGf6Ghn",
    "execution": {
     "iopub.status.busy": "2022-01-25T23:41:59.581998Z",
     "iopub.execute_input": "2022-01-25T23:41:59.582975Z",
     "iopub.status.idle": "2022-01-25T23:41:59.667069Z",
     "shell.execute_reply.started": "2022-01-25T23:41:59.582934Z",
     "shell.execute_reply": "2022-01-25T23:41:59.666139Z"
    },
    "trusted": true
   },
   "execution_count": null,
   "outputs": []
  },
  {
   "cell_type": "markdown",
   "source": [
    "### 6. Evaluate the trained linear regression model on the test set\n",
    "* We evaluate the trained model on the test set by computing the mean squared error.\n",
    "* Sklearn also has a function to compute the mean squared error and other metrics.\n",
    "* Check the API at: https://scikit-learn.org/stable/modules/classes.html#module-sklearn.metrics"
   ],
   "metadata": {
    "id": "oKY3G5F66ci_"
   }
  },
  {
   "cell_type": "code",
   "source": [
    "from sklearn.metrics import mean_squared_error\n",
    "\n",
    "# We first use the model to predict the labels on the test set\n",
    "Y_pred = model.predict(X_test)\n",
    "\n",
    "# Next we compute the mean squared error between true and predicted labels\n",
    "mse = mean_squared_error(Y_test, Y_pred)\n",
    "\n",
    "# Finally we print out the mse\n",
    "print(mse)"
   ],
   "metadata": {
    "id": "RYHTLYBl6nzI",
    "execution": {
     "iopub.status.busy": "2022-01-25T23:43:10.455262Z",
     "iopub.execute_input": "2022-01-25T23:43:10.45558Z",
     "iopub.status.idle": "2022-01-25T23:43:10.462401Z",
     "shell.execute_reply.started": "2022-01-25T23:43:10.455549Z",
     "shell.execute_reply": "2022-01-25T23:43:10.461484Z"
    },
    "trusted": true
   },
   "execution_count": null,
   "outputs": []
  },
  {
   "cell_type": "markdown",
   "source": [
    "### 7. Visualize the trained model\n",
    "* We can visualize the trained model by plotting the predictions for examples on the whole input range (-1 ,1)."
   ],
   "metadata": {
    "id": "IQKeoBGE6y3H"
   }
  },
  {
   "cell_type": "code",
   "source": [
    "import numpy as np\n",
    "import matplotlib.pyplot as plt\n",
    "\n",
    "# Generate 150 inputs evenly spaced in the input range and reshape them into a 150 x 1 matrix (each row is an example)\n",
    "xx = np.linspace(min(X), max(X), 150).reshape(-1, 1)\n",
    "\n",
    "# Make prediction on these inputs\n",
    "yy = model.predict(xx)\n",
    "\n",
    "# Plot a line connecting these points\n",
    "plt.plot(xx, yy, color='blue', label='model', linewidth=2)\n",
    "\n",
    "# Plot train points with black color\n",
    "plt.scatter(X_train, Y_train, color='black', label='train')\n",
    "\n",
    "# Plot test points with red color\n",
    "plt.scatter(X_test, Y_test, color='red', label='test')\n",
    "\n",
    "# Add the legend\n",
    "plt.legend()\n",
    "\n",
    "# Show the plot\n",
    "plt.show()"
   ],
   "metadata": {
    "id": "3uTyR3wZ7Beo",
    "execution": {
     "iopub.status.busy": "2022-01-25T23:45:44.035494Z",
     "iopub.execute_input": "2022-01-25T23:45:44.036015Z",
     "iopub.status.idle": "2022-01-25T23:45:44.243809Z",
     "shell.execute_reply.started": "2022-01-25T23:45:44.035984Z",
     "shell.execute_reply": "2022-01-25T23:45:44.242958Z"
    },
    "trusted": true
   },
   "execution_count": null,
   "outputs": []
  },
  {
   "cell_type": "markdown",
   "source": [
    "### 8. Ridge regression\n",
    "\n",
    "We can also train and evaluate a Ridge regression model using similar codes. The only difference is that we replace **model = LinearRegression()** in step 5 above by **model = Ridge(alpha=...)** after importing the Ridge class. The API for Ridge regression is at: https://scikit-learn.org/stable/modules/generated/sklearn.linear_model.Ridge.html."
   ],
   "metadata": {}
  },
  {
   "cell_type": "code",
   "source": [
    "from sklearn.linear_model import Ridge\n",
    "from sklearn.metrics import mean_squared_error\n",
    "\n",
    "model = Ridge(alpha=0.5) # Create a Ridge regression model with alpha=0.5\n",
    "model.fit(X_train, Y_train) # Train the model on the train set\n",
    "Y_pred = model.predict(X_test) # Use the model to predict the labels on the test set\n",
    "print(mean_squared_error(Y_test, Y_pred)) # Compute and print out the MSE on the test set"
   ],
   "metadata": {
    "execution": {
     "iopub.status.busy": "2022-01-25T23:47:20.205277Z",
     "iopub.execute_input": "2022-01-25T23:47:20.206029Z",
     "iopub.status.idle": "2022-01-25T23:47:20.218851Z",
     "shell.execute_reply.started": "2022-01-25T23:47:20.205979Z",
     "shell.execute_reply": "2022-01-25T23:47:20.218096Z"
    },
    "trusted": true
   },
   "execution_count": null,
   "outputs": []
  },
  {
   "cell_type": "markdown",
   "source": [
    "### 9. Lasso regression\n",
    "\n",
    "We can also train and evaluate a Lasso regression model using similar codes. The only difference is that we replace **model = LinearRegression()** in step 5 above by **model = Lasso(alpha=...)** after importing the Lasso class. The API for Lasso is at: https://scikit-learn.org/stable/modules/generated/sklearn.linear_model.Lasso.html."
   ],
   "metadata": {}
  },
  {
   "cell_type": "code",
   "source": [
    "from sklearn.linear_model import Lasso\n",
    "from sklearn.metrics import mean_squared_error\n",
    "\n",
    "model = Lasso(alpha=0.5) # Create a Lasso regression model with alpha=0.5\n",
    "model.fit(X_train, Y_train) # Train the model on the train set\n",
    "Y_pred = model.predict(X_test) # Use the model to predict the labels on the test set\n",
    "print(mean_squared_error(Y_test, Y_pred)) # Compute and print out the MSE on the test set"
   ],
   "metadata": {
    "execution": {
     "iopub.status.busy": "2022-01-25T23:48:55.79846Z",
     "iopub.execute_input": "2022-01-25T23:48:55.798779Z",
     "iopub.status.idle": "2022-01-25T23:48:55.807635Z",
     "shell.execute_reply.started": "2022-01-25T23:48:55.798749Z",
     "shell.execute_reply": "2022-01-25T23:48:55.806581Z"
    },
    "trusted": true
   },
   "execution_count": null,
   "outputs": []
  },
  {
   "cell_type": "code",
   "source": [],
   "metadata": {},
   "execution_count": null,
   "outputs": []
  }
 ]
}
