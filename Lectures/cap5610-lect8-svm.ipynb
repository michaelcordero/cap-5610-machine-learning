{
 "metadata": {
  "kernelspec": {
   "language": "python",
   "display_name": "Python 3",
   "name": "python3"
  },
  "language_info": {
   "name": "python",
   "version": "3.7.12",
   "mimetype": "text/x-python",
   "codemirror_mode": {
    "name": "ipython",
    "version": 3
   },
   "pygments_lexer": "ipython3",
   "nbconvert_exporter": "python",
   "file_extension": ".py"
  }
 },
 "nbformat_minor": 4,
 "nbformat": 4,
 "cells": [
  {
   "cell_type": "markdown",
   "source": "# Support Vector Machines\n* In this demo, we will train and test SVMs on the Iris dataset. \n* For illustration purpose, we will only use the sepal length and sepal width as features.\n* The full version of this demo is available here (try this as an exercise): https://scikit-learn.org/stable/auto_examples/svm/plot_iris_svc.html",
   "metadata": {
    "id": "63GSckRspoZJ"
   }
  },
  {
   "cell_type": "markdown",
   "source": "### 1. Load dataset\n* We can use the function load_iris to load the dataset. \n* The API for this function is at: https://scikit-learn.org/stable/modules/generated/sklearn.datasets.load_iris.html",
   "metadata": {
    "id": "h9MDqr8IxNuh"
   }
  },
  {
   "cell_type": "code",
   "source": "from sklearn.datasets import load_iris\n\niris = load_iris()\nprint(iris.DESCR) # Print the description of the dataset\n\n# Get the inputs and labels from the dataset\nX = iris.data[:, :2] # We restrict to the sepal features\nY = iris.target",
   "metadata": {
    "id": "TVg4dhf0pl15",
    "trusted": true
   },
   "execution_count": null,
   "outputs": []
  },
  {
   "cell_type": "markdown",
   "source": "### 2. Visualize dataset\n\nNow we plot a scatter plot with one color for each class. We have seen this in the previous demo.",
   "metadata": {
    "id": "fDeb80nf1btI"
   }
  },
  {
   "cell_type": "code",
   "source": "import matplotlib.pyplot as plt\n\nplt.scatter(X[:, 0], X[:, 1], c=Y, cmap=plt.cm.coolwarm, s=100, edgecolors='k')\nplt.xlabel('Sepal length')\nplt.ylabel('Sepal width')\nplt.show()",
   "metadata": {
    "id": "RxvUrMKOyZyY",
    "trusted": true
   },
   "execution_count": null,
   "outputs": []
  },
  {
   "cell_type": "markdown",
   "source": "### 3. Train/test split\n\nNow we split the data into a train set (75%) and a test set (25%).",
   "metadata": {
    "id": "BtthSTNR5zcn"
   }
  },
  {
   "cell_type": "code",
   "source": "from sklearn.model_selection import train_test_split\n\nX_train, X_test, Y_train, Y_test = train_test_split(X, Y, test_size=0.25, random_state=42)",
   "metadata": {
    "id": "eW13wklJ532_",
    "trusted": true
   },
   "execution_count": null,
   "outputs": []
  },
  {
   "cell_type": "markdown",
   "source": "### 4. Train an SVM classifier on the train set\n* We train an SVM classifier on the train set. The API for SVM is: https://scikit-learn.org/stable/modules/generated/sklearn.svm.SVC.html\n* Here there are 3 options with 3 different kernels. \n* Uncomment the model that you want to train (and comment out the others).",
   "metadata": {
    "id": "v5_wyZRu6CF_"
   }
  },
  {
   "cell_type": "code",
   "source": "from sklearn import svm\n\nC = 1.0\nmodel = svm.SVC(kernel='linear', C=C)\n# model = svm.SVC(kernel='rbf', gamma=0.7, C=C)\n# model = svm.SVC(kernel='poly', degree=4, gamma='auto', C=C)\n\nmodel.fit(X_train, Y_train)",
   "metadata": {
    "id": "34kjAIGf6Ghn",
    "trusted": true
   },
   "execution_count": null,
   "outputs": []
  },
  {
   "cell_type": "markdown",
   "source": "### 5. Evaluate the trained SVM on the test set\nWe use the trained SVM to make predictions on the test set and compute the accuracy.",
   "metadata": {
    "id": "oKY3G5F66ci_"
   }
  },
  {
   "cell_type": "code",
   "source": "from sklearn.metrics import accuracy_score\n\nY_pred = model.predict(X_test)\nacc = accuracy_score(Y_test, Y_pred)\nprint('Accuracy on test set:', acc)",
   "metadata": {
    "id": "RYHTLYBl6nzI",
    "trusted": true
   },
   "execution_count": null,
   "outputs": []
  },
  {
   "cell_type": "markdown",
   "source": "### 6. Visualize the trained SVM\n\nTo visualize the decision boundary of a classifier with 2d inputs, we first need to create a [mesh grid](https://www.geeksforgeeks.org/numpy-meshgrid-function/) on the 2d space covering all inputs (from min to max values of each dimension).",
   "metadata": {
    "id": "IQKeoBGE6y3H"
   }
  },
  {
   "cell_type": "code",
   "source": "import numpy as np\n\nX0 = X[:, 0]    # Sepal length feature\nX1 = X[:, 1]    # Sepal width feature\nh = 0.02        # Stepsize for meshgrid\n\n# Find the range of the 2 dimensions that we will plot\nX0_min, X0_max = X0.min() - 1, X0.max() + 1\nX1_min, X1_max = X1.min() - 1, X1.max() + 1\n\n# Create a meshgrid\nxx, yy = np.meshgrid(np.arange(X0_min, X0_max, h),\n                     np.arange(X1_min, X1_max, h))\n\nprint(xx)\nprint(yy)",
   "metadata": {
    "id": "3uTyR3wZ7Beo",
    "trusted": true
   },
   "execution_count": null,
   "outputs": []
  },
  {
   "cell_type": "markdown",
   "source": "Next, we need to make a prediction with our SVM model on every point on the grid.",
   "metadata": {
    "id": "g_r_O1MD7w7_"
   }
  },
  {
   "cell_type": "code",
   "source": "Z = model.predict(np.c_[xx.ravel(), yy.ravel()])\nZ = Z.reshape(xx.shape)\n\nprint(Z)",
   "metadata": {
    "id": "mUl1ZA-hK4El",
    "trusted": true
   },
   "execution_count": null,
   "outputs": []
  },
  {
   "cell_type": "markdown",
   "source": "Finally, we plot the contour of the predictions together with all the data points.",
   "metadata": {
    "id": "SAEED6sCK7T2"
   }
  },
  {
   "cell_type": "code",
   "source": "import matplotlib.pyplot as plt\n\nplt.contourf(xx, yy, Z, cmap=plt.cm.coolwarm, alpha=0.8)\nplt.scatter(X0, X1, c=Y, cmap=plt.cm.coolwarm, s=100, edgecolors='k')\nplt.xlabel('Sepal length')\nplt.ylabel('Sepal width')\nplt.show()",
   "metadata": {
    "id": "qSC1_sBD7wWO",
    "trusted": true
   },
   "execution_count": null,
   "outputs": []
  }
 ]
}
